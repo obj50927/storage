{
 "cells": [
  {
   "cell_type": "markdown",
   "metadata": {
    "collapsed": true,
    "deletable": false,
    "editable": false,
    "nbgrader": {
     "grade": false,
     "locked": true,
     "solution": false
    }
   },
   "source": [
    "# Lab2\n",
    "\n",
    "_Please make sure you submit your lab before the deadline and work on your lab only during your lab time. It is againsts course policy to submit labs after the lab section time or to work on labs before the particular lab section time has begun (this can get you 0 points)._\n",
    "\n",
    "__Important__: you can only use the python module <code>re</code> (for regular expressions) for this lab."
   ]
  },
  {
   "cell_type": "markdown",
   "metadata": {
    "deletable": false,
    "editable": false,
    "nbgrader": {
     "grade": false,
     "locked": true,
     "solution": false
    }
   },
   "source": [
    "# File Operations and Parsing\n",
    "\n",
    "Read text from an input file. Find all words that are palindromes. From this set of palindrome words, remove duplicates, sort the remaining words in descending order and write to the output file. Also, output the number of unique palindrome words found. "
   ]
  },
  {
   "cell_type": "code",
   "execution_count": 20,
   "metadata": {
    "collapsed": true
   },
   "outputs": [],
   "source": [
    "# A simple solution to checking if a string is a palindrome from Lab1. \n",
    "\n",
    "def isPalindrome(string):\n",
    "    \n",
    "    string = string.lower()\n",
    "    if len(string)==0:\n",
    "        return False\n",
    "    else:\n",
    "        return string==string[::-1]"
   ]
  },
  {
   "cell_type": "code",
   "execution_count": 21,
   "metadata": {},
   "outputs": [
    {
     "name": "stdout",
     "output_type": "stream",
     "text": [
      "(5, ['tattarrattat', 'redivider', 'detartrated', 'aibohphobia', 'a'])\n"
     ]
    }
   ],
   "source": [
    "# findPalindromes(filename) takes as input the file to read the text from, and returns a tuple whose first \n",
    "# element is the number of UNIQUE palindrome words, and the second element as the list of the unique palindromes \n",
    "# sorted in decreasing lexicographic (alphabetical) order (reverse sorted order). The words should be converted to \n",
    "# lower case.\n",
    "\n",
    "# The words in the input file are separated by whitespace. \n",
    "\n",
    "\n",
    "def findPalindromes(filename):\n",
    "    \n",
    "    ###\n",
    "    ### YOUR CODE HERE\n",
    "    ###\n",
    "    file = open(filename)\n",
    "    res = set()\n",
    "    for line in file.readlines():\n",
    "        for s in line.split():\n",
    "            if isPalindrome(s):\n",
    "                res.add(s.lower())\n",
    "    re = list(res)\n",
    "    re.sort(reverse=True)\n",
    "    return (len(re),re)\n",
    "\n",
    "# For example,\n",
    "# filename: palindrome_test.txt\n",
    "# output: (5, ['tattarrattat', 'redivider', 'detartrated', 'aibohphobia', 'a'])\n",
    "print(findPalindromes(\"palindrome_test.txt\"))"
   ]
  },
  {
   "cell_type": "code",
   "execution_count": 3,
   "metadata": {
    "collapsed": true,
    "deletable": false,
    "editable": false,
    "nbgrader": {
     "grade": true,
     "grade_id": "File_Operations_1",
     "locked": true,
     "points": "1",
     "solution": false
    }
   },
   "outputs": [],
   "source": [
    "# Code to test File Operations. \n",
    "\n",
    "###\n",
    "### AUTOGRADER TEST - DO NOT REMOVE\n",
    "###\n"
   ]
  },
  {
   "cell_type": "code",
   "execution_count": 4,
   "metadata": {
    "collapsed": true,
    "deletable": false,
    "editable": false,
    "nbgrader": {
     "grade": true,
     "grade_id": "File_Operations_2",
     "locked": true,
     "points": "1",
     "solution": false
    }
   },
   "outputs": [],
   "source": [
    "# Code to test File Operations. \n",
    "\n",
    "###\n",
    "### AUTOGRADER TEST - DO NOT REMOVE\n",
    "###\n"
   ]
  },
  {
   "cell_type": "markdown",
   "metadata": {
    "deletable": false,
    "editable": false,
    "nbgrader": {
     "grade": false,
     "locked": true,
     "solution": false
    }
   },
   "source": [
    "# Regular Expressions\n",
    "\n",
    "You need to use the 're' package in python, for the following questions on regular expressions. "
   ]
  },
  {
   "cell_type": "markdown",
   "metadata": {
    "deletable": false,
    "editable": false,
    "nbgrader": {
     "grade": false,
     "locked": true,
     "solution": false
    }
   },
   "source": [
    "# Part 1\n",
    "\n",
    "Write a regular expression to check if a given string contains any sequence of digits."
   ]
  },
  {
   "cell_type": "code",
   "execution_count": 22,
   "metadata": {},
   "outputs": [
    {
     "name": "stdout",
     "output_type": "stream",
     "text": [
      "True\n",
      "False\n"
     ]
    }
   ],
   "source": [
    "# checkDigitSequence(string) takes as input a string containing zero or more sequences of digits and returns a \n",
    "# boolean value which is True if the string contains such a sequence, and False if no such sequence is found. \n",
    "\n",
    "import re\n",
    "\n",
    "def checkDigitSequence(string):\n",
    "    \n",
    "    ###\n",
    "    ### YOUR CODE HERE\n",
    "    ###\n",
    "    srch = re.search('[0-9][0-9]+',string)\n",
    "    if srch is None:\n",
    "        return False\n",
    "    else:\n",
    "        return True\n",
    "    \n",
    "# Example Test Cases:\n",
    "\n",
    "# output: True\n",
    "print(checkDigitSequence(\"My number is 987654321 and my friend's number is 123456789.\"))\n",
    "\n",
    "# output: False\n",
    "print(checkDigitSequence(\"Hello World!\"))"
   ]
  },
  {
   "cell_type": "code",
   "execution_count": null,
   "metadata": {
    "collapsed": true,
    "deletable": false,
    "editable": false,
    "nbgrader": {
     "grade": true,
     "grade_id": "Regular_Expression_Part1_1",
     "locked": true,
     "points": "1",
     "solution": false
    }
   },
   "outputs": [],
   "source": [
    "###\n",
    "### AUTOGRADER TEST - DO NOT REMOVE\n",
    "###\n"
   ]
  },
  {
   "cell_type": "code",
   "execution_count": null,
   "metadata": {
    "collapsed": true,
    "deletable": false,
    "editable": false,
    "nbgrader": {
     "grade": true,
     "grade_id": "Regular_Expression_Part1_2",
     "locked": true,
     "points": "1",
     "solution": false
    }
   },
   "outputs": [],
   "source": [
    "###\n",
    "### AUTOGRADER TEST - DO NOT REMOVE\n",
    "###\n"
   ]
  },
  {
   "cell_type": "markdown",
   "metadata": {
    "deletable": false,
    "editable": false,
    "nbgrader": {
     "grade": false,
     "locked": true,
     "solution": false
    }
   },
   "source": [
    "# Part 2\n",
    "\n",
    "Proper case words have their first letter capitalized and the subsequent letters consists of 0 or more lower case alpha-numeric characters. Examples are Statistics, and Purdue24.\n",
    "\n",
    "Write a regular expression to find proper case words in a given string. Assume words in the string are separated by whitespaces. "
   ]
  },
  {
   "cell_type": "code",
   "execution_count": 29,
   "metadata": {},
   "outputs": [
    {
     "name": "stdout",
     "output_type": "stream",
     "text": [
      "['Data', 'Introduction', 'Science', 'We']\n",
      "None\n"
     ]
    }
   ],
   "source": [
    "# findSequence(string) takes an input string, and returns a list of all words in the string that have their first \n",
    "# letter capitalized followed by alpha-numeric characters. The output list must be sorted in the increasing \n",
    "# lexicographic order. You can use the 'sorted' function in python for sorting the list. \n",
    "# If no such word is present in the given string, then the function must return 'None'.\n",
    "\n",
    "\n",
    "def findSequence(string):\n",
    "    \n",
    "    ###\n",
    "    ### YOUR CODE HERE\n",
    "    ###\n",
    "    res = re.findall('[A-Z]\\w*', string)\n",
    "    res.sort()\n",
    "    if len(res) > 0:\n",
    "        return res\n",
    "    else:\n",
    "        return None\n",
    "    \n",
    "# Example Test Cases:\n",
    "\n",
    "# output: ['Data', 'Introduction', 'Science', 'We']\n",
    "print(findSequence(\"We are studying the course Introduction to Data Science.\"))\n",
    "\n",
    "# output: None\n",
    "print(findSequence(\"today is our second lab assignment\"))\n"
   ]
  },
  {
   "cell_type": "code",
   "execution_count": null,
   "metadata": {
    "collapsed": true,
    "deletable": false,
    "editable": false,
    "nbgrader": {
     "grade": true,
     "grade_id": "Regular_Expression_Part2_1",
     "locked": true,
     "points": "1",
     "solution": false
    }
   },
   "outputs": [],
   "source": [
    "###\n",
    "### AUTOGRADER TEST - DO NOT REMOVE\n",
    "###\n"
   ]
  },
  {
   "cell_type": "code",
   "execution_count": null,
   "metadata": {
    "collapsed": true,
    "deletable": false,
    "editable": false,
    "nbgrader": {
     "grade": true,
     "grade_id": "Regular_Expression_Part2_2",
     "locked": true,
     "points": "1",
     "solution": false
    }
   },
   "outputs": [],
   "source": [
    "###\n",
    "### AUTOGRADER TEST - DO NOT REMOVE\n",
    "###\n"
   ]
  },
  {
   "cell_type": "markdown",
   "metadata": {
    "deletable": false,
    "editable": false,
    "nbgrader": {
     "grade": false,
     "locked": true,
     "solution": false
    }
   },
   "source": [
    "# Part 3\n",
    "\n",
    "Define a \"proper case word-number\" to be: a proper case word (as defined above) followed by a whitespace character and then sequence of 1 or more digits. Example: 'January 15'\n",
    "Write a regular expression to check if a given string contains a \"proper case word number\".\n",
    "For example, the input string 'I was born on January 15' contains 'January 15', which is the desired sequence."
   ]
  },
  {
   "cell_type": "code",
   "execution_count": 17,
   "metadata": {},
   "outputs": [
    {
     "name": "stdout",
     "output_type": "stream",
     "text": [
      "True\n",
      "False\n"
     ]
    }
   ],
   "source": [
    "# checkSequence(string) takes an input string, and returns a boolean value which is True if the string contains the \n",
    "# sequence Sequence_1 defined above, and False if no such sequence is found. \n",
    "\n",
    "def checkSequence(string):\n",
    "    \n",
    "    ###\n",
    "    ### YOUR CODE HERE\n",
    "    ###\n",
    "    srch = re.search('[A-Z]\\w*\\ [0-9][0-9]+',string)\n",
    "    if srch is None:\n",
    "        return False\n",
    "    else:\n",
    "        return True\n",
    "    \n",
    "    \n",
    "# Example Test Cases\n",
    "\n",
    "# output: True\n",
    "print(checkSequence(\"I was born on January 15\"))\n",
    "\n",
    "# output: False\n",
    "print(checkSequence(\"I was born on January fifteen\"))"
   ]
  },
  {
   "cell_type": "code",
   "execution_count": null,
   "metadata": {
    "collapsed": true,
    "deletable": false,
    "editable": false,
    "nbgrader": {
     "grade": true,
     "grade_id": "Regular_Expression_Part3_1",
     "locked": true,
     "points": "1",
     "solution": false
    }
   },
   "outputs": [],
   "source": [
    "###\n",
    "### AUTOGRADER TEST - DO NOT REMOVE\n",
    "###\n"
   ]
  },
  {
   "cell_type": "code",
   "execution_count": null,
   "metadata": {
    "collapsed": true,
    "deletable": false,
    "editable": false,
    "nbgrader": {
     "grade": true,
     "grade_id": "Regular_Expression_Part3_2",
     "locked": true,
     "points": "1",
     "solution": false
    }
   },
   "outputs": [],
   "source": [
    "###\n",
    "### AUTOGRADER TEST - DO NOT REMOVE\n",
    "###\n"
   ]
  },
  {
   "cell_type": "markdown",
   "metadata": {
    "deletable": false,
    "editable": false,
    "nbgrader": {
     "grade": false,
     "locked": true,
     "solution": false
    }
   },
   "source": [
    "# Part 4\n",
    "\n",
    "Modify the above function to return a string where each \"proper case word-number\" is converted to the corresponding \"number-proper case word\". For example, if the input string is 'I was born on January 15', the function returns 'I was born on 15 January'."
   ]
  },
  {
   "cell_type": "code",
   "execution_count": 26,
   "metadata": {
    "nbgrader": {
     "grade": false,
     "grade_id": "Regular_Expression_Part4_1",
     "locked": false,
     "points": "1",
     "solution": false
    }
   },
   "outputs": [
    {
     "name": "stdout",
     "output_type": "stream",
     "text": [
      "I was born on 24 June\n",
      "I was born on June two\n"
     ]
    }
   ],
   "source": [
    "# reverseOrder(string) takes an input string, performs the operations mentioned above, and returns the output string.\n",
    "\n",
    "def reverseOrder(string):\n",
    "    \n",
    "    ###\n",
    "    ### YOUR CODE HERE\n",
    "    ###\n",
    "    list1 = re.findall('[A-Z]\\w*\\ [0-9][0-9]+',string)\n",
    "    if len(list1) > 0:\n",
    "        for s in list1:\n",
    "            rev = s.split()\n",
    "            rev = rev[1] + \" \" + rev[0]\n",
    "            string = string.replace(s,rev)\n",
    "    return string\n",
    "    \n",
    "# For example,\n",
    "# output: I was born on 24 June\n",
    "print(reverseOrder(\"I was born on June 24\"))\n",
    "\n",
    "# output: I was born on June two\n",
    "print(reverseOrder(\"I was born on June two\"))"
   ]
  },
  {
   "cell_type": "code",
   "execution_count": null,
   "metadata": {
    "collapsed": true,
    "deletable": false,
    "editable": false,
    "nbgrader": {
     "grade": true,
     "grade_id": "Regular_Expression_Part4_1",
     "locked": true,
     "points": "1",
     "solution": false
    }
   },
   "outputs": [],
   "source": [
    "###\n",
    "### AUTOGRADER TEST - DO NOT REMOVE\n",
    "###\n"
   ]
  },
  {
   "cell_type": "code",
   "execution_count": null,
   "metadata": {
    "collapsed": true,
    "deletable": false,
    "editable": false,
    "nbgrader": {
     "grade": true,
     "grade_id": "Regular_Expression_Part4_2",
     "locked": true,
     "points": "1",
     "solution": false
    }
   },
   "outputs": [],
   "source": [
    "###\n",
    "### AUTOGRADER TEST - DO NOT REMOVE\n",
    "###\n"
   ]
  },
  {
   "cell_type": "markdown",
   "metadata": {
    "deletable": false,
    "editable": false,
    "nbgrader": {
     "grade": false,
     "locked": true,
     "solution": false
    }
   },
   "source": [
    "# Part 5\n",
    "\n",
    "A Windows pathname consists of a series of directory names and then a file name, all separated by backslashes. \n",
    "Each directory name or file name can contain any character other than backslashes or forward slashes.\n",
    "Examples are 'dir1\\dir2\\file' and 'C:\\HOME\\USERS\\grades.txt'\n",
    "\n",
    "\n",
    "Write a function that takes a pathname as input and replaces all backslashes with forward slashes. It should return this modified string, along with the names of the lowermost directory and the file. \n",
    "\n",
    "You can assume the input contains at least 1 backslash, 0 forward slashes, and that there are no two successive backslashes.\n",
    "Thus, \"file.txt\", \"C:\\\\HOME\\grades.txt\" and \"home\\exams/grades.txt' are invalid inputs that you need not worry about."
   ]
  },
  {
   "cell_type": "code",
   "execution_count": 19,
   "metadata": {},
   "outputs": [
    {
     "name": "stdout",
     "output_type": "stream",
     "text": [
      "('dir1/dir2/file', 'dir2', 'file')\n",
      "('C:/HOME/CS242/EXAMS/midterm1/grades.txt', 'midterm1', 'grades.txt')\n"
     ]
    }
   ],
   "source": [
    "def removeBackslashes(winpath):\n",
    "    \n",
    "    ###\n",
    "    ### YOUR CODE HERE\n",
    "    ###\n",
    "    res = re.sub(r'\\\\',r'/',winpath)\n",
    "    temp = res.split('/')\n",
    "    return (res,temp[-2],temp[-1])\n",
    "\n",
    "# output: ('dir1/dir2/file', 'dir2', 'file')\n",
    "print(removeBackslashes(r'dir1\\dir2\\file'))\n",
    "\n",
    "# output ('C:/HOME/CS242/EXAMS/midterm1/grades.txt', 'midterm1', 'grades.txt')\n",
    "print(removeBackslashes(r'C:\\HOME\\CS242\\EXAMS\\midterm1\\grades.txt'))"
   ]
  },
  {
   "cell_type": "code",
   "execution_count": null,
   "metadata": {
    "collapsed": true,
    "deletable": false,
    "editable": false,
    "nbgrader": {
     "grade": true,
     "grade_id": "Regular_Expression_Part5_1",
     "locked": true,
     "points": "1",
     "solution": false
    }
   },
   "outputs": [],
   "source": [
    "###\n",
    "### AUTOGRADER TEST - DO NOT REMOVE\n",
    "###\n"
   ]
  },
  {
   "cell_type": "code",
   "execution_count": null,
   "metadata": {
    "collapsed": true,
    "deletable": false,
    "editable": false,
    "nbgrader": {
     "grade": true,
     "grade_id": "Regular_Expression_Part5_2",
     "locked": true,
     "points": "1",
     "solution": false
    }
   },
   "outputs": [],
   "source": [
    "###\n",
    "### AUTOGRADER TEST - DO NOT REMOVE\n",
    "###\n"
   ]
  },
  {
   "cell_type": "code",
   "execution_count": null,
   "metadata": {
    "collapsed": true,
    "deletable": false,
    "editable": false,
    "nbgrader": {
     "grade": true,
     "grade_id": "Regular_Expression_Part5_3",
     "locked": true,
     "points": "1",
     "solution": false
    }
   },
   "outputs": [],
   "source": [
    "###\n",
    "### AUTOGRADER TEST - DO NOT REMOVE\n",
    "###\n"
   ]
  }
 ],
 "metadata": {
  "kernelspec": {
   "display_name": "Python 3",
   "language": "python",
   "name": "python3"
  },
  "language_info": {
   "codemirror_mode": {
    "name": "ipython",
    "version": 3
   },
   "file_extension": ".py",
   "mimetype": "text/x-python",
   "name": "python",
   "nbconvert_exporter": "python",
   "pygments_lexer": "ipython3",
   "version": "3.7.4"
  }
 },
 "nbformat": 4,
 "nbformat_minor": 2
}
