{
 "cells": [
  {
   "cell_type": "markdown",
   "metadata": {
    "deletable": false,
    "editable": false,
    "nbgrader": {
     "grade": false,
     "locked": true,
     "solution": false
    }
   },
   "source": [
    "# Homework 2"
   ]
  },
  {
   "cell_type": "markdown",
   "metadata": {
    "deletable": false,
    "editable": false,
    "nbgrader": {
     "grade": false,
     "locked": true,
     "solution": false
    }
   },
   "source": [
    "CS 242, Fall 2020; Instructor: Vinayak Rao \n",
    "\n",
    "Due: February 13, 11:59PM, submit to Blackboard  \n",
    "(Posted Feb 5, 2020)\n",
    "\n",
    "Please submit this homework as a single Jupyter notebook (a .ipynb file) to Blackboard before the deadline: __11:59pm on Thursday, Feb 13__. Any paragraph/descriptive/yes-no answers that you want to be considered for grading must be included as separate markdown cells in the Jupyter notebook (rather than as comments in the code), and these cells should accompany the associated questions: graders cannot be expected to hunt through your submission to find answers to individual questions. Please post any questions you have on piazza.\n",
    "\n",
    "__Important__\n",
    "\n",
    "+ For this homework you can __ONLY__ use the python libraries math, numpy, pandas and re. \n",
    "+ Unless specified, you will lose upto 25% credit if you use loops of any kind. For full points, you should use pandas functionality, with code that returns correct answers if run on a test dataframe with the numeric entries changed.\n",
    "\n",
    "__Suggestion__\n",
    "+ To help validate your code, create smaller versions of the provided datasets where you can calculate quantities by hand, and make sure your code agrees with these numbers"
   ]
  },
  {
   "cell_type": "markdown",
   "metadata": {
    "deletable": false,
    "editable": false,
    "nbgrader": {
     "grade": false,
     "locked": true,
     "solution": false
    }
   },
   "source": [
    "# Q1 Analyzing the Election Data (2 x 11 = 22 pts)"
   ]
  },
  {
   "cell_type": "markdown",
   "metadata": {
    "deletable": false,
    "editable": false,
    "nbgrader": {
     "grade": false,
     "locked": true,
     "solution": false
    }
   },
   "source": [
    "Read the contents of the file 'bush-gore-results-fl.csv'.\n",
    "\n",
    "(a) Find how many votes were submitted in total. You can assume the last ten columns (starting from 'bush') record the number of votes registered for each of the ten candidates, each column being a different county."
   ]
  },
  {
   "cell_type": "code",
   "execution_count": 1,
   "metadata": {},
   "outputs": [
    {
     "name": "stdout",
     "output_type": "stream",
     "text": [
      "bush    2910078\n",
      "gore    2909117\n",
      "brow      16396\n",
      "nade      97416\n",
      "harr        558\n",
      "hage       2273\n",
      "buch      17465\n",
      "mcre        618\n",
      "phil       1368\n",
      "moor       1803\n",
      "dtype: int64\n",
      "5957092\n"
     ]
    }
   ],
   "source": [
    "import pandas as pd\n",
    "\n",
    "df = pd.read_csv('bush-gore-results-fl.csv')\n",
    "votes = df[df.columns[11:]]\n",
    "print(votes.sum())\n",
    "print(votes.sum().sum())"
   ]
  },
  {
   "cell_type": "markdown",
   "metadata": {},
   "source": [
    "The total submitted votes are 5957092."
   ]
  },
  {
   "cell_type": "markdown",
   "metadata": {
    "collapsed": true,
    "deletable": false,
    "editable": false,
    "nbgrader": {
     "grade": false,
     "locked": true,
     "solution": false
    }
   },
   "source": [
    "(b) Determine how many counties Bush won and how many counties Gore won. You can assume that each row corresponds to a unique county. The candidate with the most number of votes in a county wins that county."
   ]
  },
  {
   "cell_type": "code",
   "execution_count": 2,
   "metadata": {},
   "outputs": [
    {
     "name": "stdout",
     "output_type": "stream",
     "text": [
      "51\n",
      "16\n"
     ]
    }
   ],
   "source": [
    "###\n",
    "### YOUR CODE HERE\n",
    "###\n",
    "\n",
    "won = votes.idxmax(axis=1).to_frame()\n",
    "won['bush'] = won[0].apply(lambda x: 1 if x == 'bush' else 0)\n",
    "won['gore'] = won[0].apply(lambda x: 1 if x == 'gore' else 0)\n",
    "\n",
    "print(won['bush'].sum())\n",
    "print(won['gore'].sum())\n"
   ]
  },
  {
   "cell_type": "markdown",
   "metadata": {},
   "source": [
    "Bush won in 51 counties and Gore won in 16 counties."
   ]
  },
  {
   "cell_type": "markdown",
   "metadata": {
    "deletable": false,
    "editable": false,
    "nbgrader": {
     "grade": false,
     "locked": true,
     "solution": false
    }
   },
   "source": [
    "(c) Determine who won the largest county and who won the smallest county (by population). The column named \"npop\" records the population of each county."
   ]
  },
  {
   "cell_type": "code",
   "execution_count": 3,
   "metadata": {},
   "outputs": [
    {
     "name": "stdout",
     "output_type": "stream",
     "text": [
      "gore\n",
      "bush\n"
     ]
    }
   ],
   "source": [
    "###\n",
    "### YOUR CODE HERE\n",
    "###\n",
    "\n",
    "largest = df['npop'].idxmax()\n",
    "smallest = df['npop'].idxmin()\n",
    "print(df.iloc[largest][11:].idxmax())\n",
    "print(df.iloc[smallest][11:].idxmax())"
   ]
  },
  {
   "cell_type": "markdown",
   "metadata": {},
   "source": [
    "Gore won in the largest county and Bush won in the smallest county"
   ]
  },
  {
   "cell_type": "markdown",
   "metadata": {
    "deletable": false,
    "editable": false,
    "nbgrader": {
     "grade": false,
     "locked": true,
     "solution": false
    }
   },
   "source": [
    "(d) Determine the mean and standard deviation of the number of votes per county that Buchanan obtained. You can assume that each row corresponds to a unique county."
   ]
  },
  {
   "cell_type": "code",
   "execution_count": 4,
   "metadata": {},
   "outputs": [
    {
     "name": "stdout",
     "output_type": "stream",
     "text": [
      "count      67.000000\n",
      "mean      260.671642\n",
      "std       449.924215\n",
      "min         9.000000\n",
      "25%        46.500000\n",
      "50%       120.000000\n",
      "75%       285.500000\n",
      "max      3407.000000\n",
      "Name: buch, dtype: float64\n"
     ]
    }
   ],
   "source": [
    "###\n",
    "### YOUR CODE HERE\n",
    "###\n",
    "\n",
    "print(df['buch'].describe())"
   ]
  },
  {
   "cell_type": "markdown",
   "metadata": {},
   "source": [
    "mean = 260.671642, standard deviation = 449.924215"
   ]
  },
  {
   "cell_type": "markdown",
   "metadata": {
    "deletable": false,
    "editable": false,
    "nbgrader": {
     "grade": false,
     "locked": true,
     "solution": false
    }
   },
   "source": [
    "(e) In how many counties did Buchanan's votes deviate from the mean by more than the standard deviation (calculated previously)?"
   ]
  },
  {
   "cell_type": "code",
   "execution_count": 5,
   "metadata": {},
   "outputs": [
    {
     "name": "stdout",
     "output_type": "stream",
     "text": [
      "4\n"
     ]
    }
   ],
   "source": [
    "###\n",
    "### YOUR CODE HERE\n",
    "###\n",
    "mean = df['buch'].mean()\n",
    "std = df['buch'].std()\n",
    "buch = df['buch'].to_frame()\n",
    "buch['over'] = buch['buch'].apply(lambda x : 1 if x > mean + std or x < mean - std else 0)\n",
    "print(buch['over'].sum())"
   ]
  },
  {
   "cell_type": "markdown",
   "metadata": {},
   "source": [
    "4 counties."
   ]
  },
  {
   "cell_type": "markdown",
   "metadata": {
    "deletable": false,
    "editable": false,
    "nbgrader": {
     "grade": false,
     "locked": true,
     "solution": false
    }
   },
   "source": [
    "(f) Determine, for the number of votes Buchanan obtained in Palm Beach, how many standard deviations it is away from Buchanan's overall mean, in absolute value. The row with county number 50 (\"co\"=50) records the results for Palm Beach County. "
   ]
  },
  {
   "cell_type": "code",
   "execution_count": 6,
   "metadata": {},
   "outputs": [
    {
     "name": "stdout",
     "output_type": "stream",
     "text": [
      "6\n"
     ]
    }
   ],
   "source": [
    "###\n",
    "### YOUR CODE HERE\n",
    "###\n",
    "import math\n",
    "print(math.floor(abs(df[df['co']==50]['buch']-df['buch'].mean())/df['buch'].std()))\n",
    "\n"
   ]
  },
  {
   "cell_type": "markdown",
   "metadata": {},
   "source": [
    "6 standard deviations."
   ]
  },
  {
   "cell_type": "markdown",
   "metadata": {
    "deletable": false,
    "editable": false,
    "nbgrader": {
     "grade": false,
     "locked": true,
     "solution": false
    }
   },
   "source": [
    "(g) Now calculate the above statistic (same as in part f) for all the counties and report them in decreasing order.\n",
    "Print the output upto 6 decimal places. __You can use a for loop for the final part where you print your results.__\n",
    "You results should look something like (with made up numbers):\n",
    " \n",
    " county_50 2.194058 <br/> \n",
    " county_52 0.122142 <br/>\n",
    " ..."
   ]
  },
  {
   "cell_type": "code",
   "execution_count": 7,
   "metadata": {},
   "outputs": [
    {
     "name": "stdout",
     "output_type": "stream",
     "text": [
      "county_50 6.993018\n",
      "county_52 1.672122\n",
      "county_28 1.303171\n",
      "county_6 1.172038\n",
      "county_15 0.869765\n",
      "county_5 0.687512\n",
      "county_51 0.687512\n",
      "county_41 0.671954\n",
      "county_43 0.665286\n",
      "county_53 0.603053\n",
      "county_21 0.559365\n",
      "county_33 0.557142\n",
      "county_16 0.536376\n",
      "county_25 0.530471\n",
      "county_23 0.528248\n",
      "county_64 0.523040\n",
      "county_62 0.519358\n",
      "county_20 0.514913\n",
      "county_32 0.514913\n",
      "county_14 0.514913\n",
      "county_39 0.514913\n",
      "county_24 0.512690\n",
      "county_18 0.506022\n",
      "county_13 0.499354\n",
      "county_63 0.497132\n",
      "county_19 0.494909\n",
      "county_38 0.492687\n",
      "county_47 0.483796\n",
      "county_65 0.477128\n",
      "county_44 0.474906\n",
      "county_4 0.434899\n",
      "county_37 0.430454\n",
      "county_22 0.421564\n",
      "county_2 0.417118\n",
      "county_48 0.411910\n",
      "county_29 0.410451\n",
      "county_17 0.394892\n",
      "county_67 0.383779\n",
      "county_12 0.381557\n",
      "county_7 0.379334\n",
      "county_45 0.379334\n",
      "county_31 0.352663\n",
      "county_30 0.345995\n",
      "county_61 0.339327\n",
      "county_42 0.330437\n",
      "county_60 0.325992\n",
      "county_66 0.312656\n",
      "county_11 0.308211\n",
      "county_59 0.303766\n",
      "county_27 0.297098\n",
      "county_49 0.257091\n",
      "county_54 0.250424\n",
      "county_8 0.174855\n",
      "county_10 0.165965\n",
      "county_57 0.148184\n",
      "county_55 0.111860\n",
      "county_35 0.098524\n",
      "county_56 0.098524\n",
      "county_58 0.070393\n",
      "county_34 0.062963\n",
      "county_36 0.047404\n",
      "county_26 0.041500\n",
      "county_3 0.028164\n",
      "county_40 0.022956\n",
      "county_9 0.020733\n",
      "county_46 0.014065\n",
      "county_1 0.005175\n"
     ]
    }
   ],
   "source": [
    "###\n",
    "### YOUR CODE HERE\n",
    "###\n",
    "res = abs((df['buch']-df['buch'].mean())/df['buch'].std())\n",
    "res = res.sort_values(ascending=False)\n",
    "for index, value in res.items():\n",
    "    print(f\"county_{index+1} {value:.6f}\")"
   ]
  },
  {
   "cell_type": "markdown",
   "metadata": {
    "deletable": false,
    "editable": false,
    "nbgrader": {
     "grade": false,
     "locked": true,
     "solution": false
    }
   },
   "source": [
    "(h) For each county, we have the percentage of three subpopulations, viz. white, black, and hispanic. Assume each candidate's votes in a county were broken up according the the percentage of the subpopulations (i.e. we are making the unrealistic assumption that no subpopulation favored any candidate). Determine which candidate obtained the largest number of votes for each subpopulation across Florida. Return this as a dictionary of the form\n",
    "   \n",
    "   (type: dict): {'white': '???', 'black': '???', 'hispanic': '???'}\n",
    "    \n",
    "  "
   ]
  },
  {
   "cell_type": "code",
   "execution_count": 8,
   "metadata": {
    "nbgrader": {
     "grade": false,
     "locked": false,
     "solution": false
    }
   },
   "outputs": [
    {
     "data": {
      "text/plain": [
       "{'white': 'bush', 'black': 'gore', 'hispanic': 'gore'}"
      ]
     },
     "execution_count": 8,
     "metadata": {},
     "output_type": "execute_result"
    }
   ],
   "source": [
    "###\n",
    "### YOUR CODE HERE\n",
    "###\n",
    "res = {'white':'', 'black':'', 'hispanic':''}\n",
    "whit = df[df.columns[11:]].apply(lambda x: x*(df['whit']/100))\n",
    "res['white'] = whit.sum().idxmax()\n",
    "blac = df[df.columns[11:]].apply(lambda x: x*(df['blac']/100))\n",
    "res['black'] = blac.sum().idxmax()\n",
    "hisp = df[df.columns[11:]].apply(lambda x: x*(df['hisp']/100))\n",
    "res['hispanic'] = hisp.sum().idxmax()\n",
    "\n",
    "res"
   ]
  },
  {
   "cell_type": "markdown",
   "metadata": {
    "deletable": false,
    "editable": false,
    "nbgrader": {
     "grade": false,
     "locked": true,
     "solution": false
    }
   },
   "source": [
    "(i) Plot a scatterplot of the difference in votes between Bush and Gore againsts the votes obtained by Nader. Also, \n",
    "calculate the correlation between these two quantities."
   ]
  },
  {
   "cell_type": "code",
   "execution_count": 9,
   "metadata": {},
   "outputs": [
    {
     "name": "stdout",
     "output_type": "stream",
     "text": [
      "          diff      nade\n",
      "diff  1.000000  0.544306\n",
      "nade  0.544306  1.000000\n"
     ]
    }
   ],
   "source": [
    "###\n",
    "### YOUR CODE HERE\n",
    "###\n",
    "df['diff'] = abs(df['bush'] - df['gore'])\n",
    "df_sub = df[['diff','nade']]\n",
    "plot = df_sub.plot.scatter(x='diff', y='nade')\n",
    "print(df_sub.corr())\n"
   ]
  },
  {
   "cell_type": "markdown",
   "metadata": {
    "deletable": false,
    "editable": false,
    "nbgrader": {
     "grade": false,
     "locked": true,
     "solution": false
    }
   },
   "source": [
    "(j) Again, plot a scatterplot and calculate the correlation, but this time use the percentage of the population in each county rather than raw vote count."
   ]
  },
  {
   "cell_type": "code",
   "execution_count": 10,
   "metadata": {},
   "outputs": [
    {
     "name": "stdout",
     "output_type": "stream",
     "text": [
      "            diff    nade_p\n",
      "diff    1.000000 -0.205858\n",
      "nade_p -0.205858  1.000000\n"
     ]
    },
    {
     "data": {
      "image/png": "[encoded data removed]",
      "text/plain": [
       "<Figure size 432x288 with 1 Axes>"
      ]
     },
     "metadata": {
      "needs_background": "light"
     },
     "output_type": "display_data"
    }
   ],
   "source": [
    "###\n",
    "### YOUR CODE HERE\n",
    "###\n",
    "df['diff'] = abs(df['bush'] - df['gore'])/df['npop'] * 100\n",
    "df['nade_p'] = df['nade']/df['npop'] * 100\n",
    "df_sub = df[['diff','nade_p']]\n",
    "plot = df_sub.plot.scatter(x='diff', y='nade_p')\n",
    "print(df_sub.corr())\n"
   ]
  },
  {
   "cell_type": "markdown",
   "metadata": {
    "deletable": false,
    "editable": false,
    "nbgrader": {
     "grade": false,
     "locked": true,
     "solution": false
    }
   },
   "source": [
    "(k) Find the distance between the county that Bush won by the largest margin and the county that Gore won by the largest margin. (Just use basic Euclidean distance between the latitude (lat) and longitude (lon) values for the counties, no need to compute spherical distance.)  \n",
    "    Demo file: 'bush-gore-results-fl_demo.csv'  \n",
    "    Example output: 4.3416586692184796"
   ]
  },
  {
   "cell_type": "code",
   "execution_count": null,
   "metadata": {},
   "outputs": [],
   "source": []
  },
  {
   "cell_type": "markdown",
   "metadata": {
    "collapsed": true,
    "deletable": false,
    "editable": false,
    "nbgrader": {
     "grade": false,
     "locked": true,
     "solution": false
    }
   },
   "source": [
    "# Q3 Movie dataset (7x2 + 3x3 = 23pts) \n",
    "### (the last 2 questions are 3 points each)\n",
    "\n",
    "Unless otherwise specified, each cell should use the dataframe produced by the previous cell."
   ]
  },
  {
   "cell_type": "markdown",
   "metadata": {
    "deletable": false,
    "editable": false,
    "nbgrader": {
     "grade": false,
     "locked": true,
     "solution": false
    }
   },
   "source": [
    "(a) Read the movie dataset movie_data.csv, and create a smaller dataframe keeping only the columns movie_title, director_name, actor_1_name, title_year, imdb_score, budget and gross, and only rows corresponding to movies made in the USA. What are the dimensions of the resulting dataframe?"
   ]
  },
  {
   "cell_type": "code",
   "execution_count": 35,
   "metadata": {},
   "outputs": [
    {
     "data": {
      "text/html": [
       "<div>\n",
       "<style scoped>\n",
       "    .dataframe tbody tr th:only-of-type {\n",
       "        vertical-align: middle;\n",
       "    }\n",
       "\n",
       "    .dataframe tbody tr th {\n",
       "        vertical-align: top;\n",
       "    }\n",
       "\n",
       "    .dataframe thead th {\n",
       "        text-align: right;\n",
       "    }\n",
       "</style>\n",
       "<table border=\"1\" class=\"dataframe\">\n",
       "  <thead>\n",
       "    <tr style=\"text-align: right;\">\n",
       "      <th></th>\n",
       "      <th>movie_title</th>\n",
       "      <th>director_name</th>\n",
       "      <th>actor_1_name</th>\n",
       "      <th>title_year</th>\n",
       "      <th>imdb_score</th>\n",
       "      <th>budget</th>\n",
       "      <th>gross</th>\n",
       "    </tr>\n",
       "  </thead>\n",
       "  <tbody>\n",
       "    <tr>\n",
       "      <td>0</td>\n",
       "      <td>Avatar</td>\n",
       "      <td>James Cameron</td>\n",
       "      <td>CCH Pounder</td>\n",
       "      <td>2009.0</td>\n",
       "      <td>7.9</td>\n",
       "      <td>237000000.0</td>\n",
       "      <td>760505847.0</td>\n",
       "    </tr>\n",
       "    <tr>\n",
       "      <td>1</td>\n",
       "      <td>Pirates of the Caribbean: At World's End</td>\n",
       "      <td>Gore Verbinski</td>\n",
       "      <td>Johnny Depp</td>\n",
       "      <td>2007.0</td>\n",
       "      <td>7.1</td>\n",
       "      <td>300000000.0</td>\n",
       "      <td>309404152.0</td>\n",
       "    </tr>\n",
       "    <tr>\n",
       "      <td>3</td>\n",
       "      <td>The Dark Knight Rises</td>\n",
       "      <td>Christopher Nolan</td>\n",
       "      <td>Tom Hardy</td>\n",
       "      <td>2012.0</td>\n",
       "      <td>8.5</td>\n",
       "      <td>250000000.0</td>\n",
       "      <td>448130642.0</td>\n",
       "    </tr>\n",
       "    <tr>\n",
       "      <td>5</td>\n",
       "      <td>John Carter</td>\n",
       "      <td>Andrew Stanton</td>\n",
       "      <td>Daryl Sabara</td>\n",
       "      <td>2012.0</td>\n",
       "      <td>6.6</td>\n",
       "      <td>263700000.0</td>\n",
       "      <td>73058679.0</td>\n",
       "    </tr>\n",
       "    <tr>\n",
       "      <td>6</td>\n",
       "      <td>Spider-Man 3</td>\n",
       "      <td>Sam Raimi</td>\n",
       "      <td>J.K. Simmons</td>\n",
       "      <td>2007.0</td>\n",
       "      <td>6.2</td>\n",
       "      <td>258000000.0</td>\n",
       "      <td>336530303.0</td>\n",
       "    </tr>\n",
       "    <tr>\n",
       "      <td>...</td>\n",
       "      <td>...</td>\n",
       "      <td>...</td>\n",
       "      <td>...</td>\n",
       "      <td>...</td>\n",
       "      <td>...</td>\n",
       "      <td>...</td>\n",
       "      <td>...</td>\n",
       "    </tr>\n",
       "    <tr>\n",
       "      <td>5037</td>\n",
       "      <td>Newlyweds</td>\n",
       "      <td>Edward Burns</td>\n",
       "      <td>Kerry Bishé</td>\n",
       "      <td>2011.0</td>\n",
       "      <td>6.4</td>\n",
       "      <td>9000.0</td>\n",
       "      <td>4584.0</td>\n",
       "    </tr>\n",
       "    <tr>\n",
       "      <td>5039</td>\n",
       "      <td>The Following</td>\n",
       "      <td>NaN</td>\n",
       "      <td>Natalie Zea</td>\n",
       "      <td>NaN</td>\n",
       "      <td>7.5</td>\n",
       "      <td>NaN</td>\n",
       "      <td>NaN</td>\n",
       "    </tr>\n",
       "    <tr>\n",
       "      <td>5040</td>\n",
       "      <td>A Plague So Pleasant</td>\n",
       "      <td>Benjamin Roberds</td>\n",
       "      <td>Eva Boehnke</td>\n",
       "      <td>2013.0</td>\n",
       "      <td>6.3</td>\n",
       "      <td>1400.0</td>\n",
       "      <td>NaN</td>\n",
       "    </tr>\n",
       "    <tr>\n",
       "      <td>5041</td>\n",
       "      <td>Shanghai Calling</td>\n",
       "      <td>Daniel Hsia</td>\n",
       "      <td>Alan Ruck</td>\n",
       "      <td>2012.0</td>\n",
       "      <td>6.3</td>\n",
       "      <td>NaN</td>\n",
       "      <td>10443.0</td>\n",
       "    </tr>\n",
       "    <tr>\n",
       "      <td>5042</td>\n",
       "      <td>My Date with Drew</td>\n",
       "      <td>Jon Gunn</td>\n",
       "      <td>John August</td>\n",
       "      <td>2004.0</td>\n",
       "      <td>6.6</td>\n",
       "      <td>1100.0</td>\n",
       "      <td>85222.0</td>\n",
       "    </tr>\n",
       "  </tbody>\n",
       "</table>\n",
       "<p>3807 rows × 7 columns</p>\n",
       "</div>"
      ],
      "text/plain": [
       "                                    movie_title      director_name  \\\n",
       "0                                       Avatar       James Cameron   \n",
       "1     Pirates of the Caribbean: At World's End      Gore Verbinski   \n",
       "3                        The Dark Knight Rises   Christopher Nolan   \n",
       "5                                  John Carter      Andrew Stanton   \n",
       "6                                 Spider-Man 3           Sam Raimi   \n",
       "...                                         ...                ...   \n",
       "5037                                 Newlyweds        Edward Burns   \n",
       "5039                 The Following                             NaN   \n",
       "5040                      A Plague So Pleasant    Benjamin Roberds   \n",
       "5041                          Shanghai Calling         Daniel Hsia   \n",
       "5042                         My Date with Drew            Jon Gunn   \n",
       "\n",
       "      actor_1_name  title_year  imdb_score       budget        gross  \n",
       "0      CCH Pounder      2009.0         7.9  237000000.0  760505847.0  \n",
       "1      Johnny Depp      2007.0         7.1  300000000.0  309404152.0  \n",
       "3        Tom Hardy      2012.0         8.5  250000000.0  448130642.0  \n",
       "5     Daryl Sabara      2012.0         6.6  263700000.0   73058679.0  \n",
       "6     J.K. Simmons      2007.0         6.2  258000000.0  336530303.0  \n",
       "...            ...         ...         ...          ...          ...  \n",
       "5037   Kerry Bishé      2011.0         6.4       9000.0       4584.0  \n",
       "5039   Natalie Zea         NaN         7.5          NaN          NaN  \n",
       "5040   Eva Boehnke      2013.0         6.3       1400.0          NaN  \n",
       "5041     Alan Ruck      2012.0         6.3          NaN      10443.0  \n",
       "5042   John August      2004.0         6.6       1100.0      85222.0  \n",
       "\n",
       "[3807 rows x 7 columns]"
      ]
     },
     "execution_count": 35,
     "metadata": {},
     "output_type": "execute_result"
    }
   ],
   "source": [
    "###\n",
    "### YOUR CODE HERE\n",
    "###\n",
    "df = pd.read_csv('movie_data.csv')\n",
    "df = df[df['country'] == 'USA']\n",
    "df = df[['movie_title','director_name','actor_1_name','title_year','imdb_score','budget','gross']]\n",
    "df"
   ]
  },
  {
   "cell_type": "markdown",
   "metadata": {},
   "source": [
    "7 dimensions"
   ]
  },
  {
   "cell_type": "markdown",
   "metadata": {},
   "source": [
    "(b)  How many missing values does the resulting dataframe have? How many rows have missing values? Drop all rows with missing values. What is the size now?"
   ]
  },
  {
   "cell_type": "code",
   "execution_count": 36,
   "metadata": {},
   "outputs": [
    {
     "name": "stdout",
     "output_type": "stream",
     "text": [
      "1022\n",
      "734\n",
      "3073\n"
     ]
    }
   ],
   "source": [
    "###\n",
    "### YOUR CODE HERE\n",
    "###\n",
    "print(sum(df.isnull().sum()))\n",
    "before = len(df)\n",
    "df = df.dropna()\n",
    "after = len(df)\n",
    "print(before-after)\n",
    "print(after)"
   ]
  },
  {
   "cell_type": "markdown",
   "metadata": {},
   "source": [
    "1022 missing values, 734 rows have missing values. The size of data frame is 3073 rows x 7 columns"
   ]
  },
  {
   "cell_type": "markdown",
   "metadata": {
    "deletable": false,
    "editable": false,
    "nbgrader": {
     "grade": false,
     "locked": true,
     "solution": false
    }
   },
   "source": [
    "(c) Add a new column 'profit' equal to 'gross' minus 'budget'.\n",
    "Also add a new column 'decade' identifying which decade each movie belongs to. Thus movies from 1950-1959 should get one label, 1960-1969 another etc. It does not matter what these labels are so long as they are different for each decade, and are in increasing order for increasing decades."
   ]
  },
  {
   "cell_type": "code",
   "execution_count": 40,
   "metadata": {},
   "outputs": [
    {
     "data": {
      "text/html": [
       "<div>\n",
       "<style scoped>\n",
       "    .dataframe tbody tr th:only-of-type {\n",
       "        vertical-align: middle;\n",
       "    }\n",
       "\n",
       "    .dataframe tbody tr th {\n",
       "        vertical-align: top;\n",
       "    }\n",
       "\n",
       "    .dataframe thead th {\n",
       "        text-align: right;\n",
       "    }\n",
       "</style>\n",
       "<table border=\"1\" class=\"dataframe\">\n",
       "  <thead>\n",
       "    <tr style=\"text-align: right;\">\n",
       "      <th></th>\n",
       "      <th>movie_title</th>\n",
       "      <th>director_name</th>\n",
       "      <th>actor_1_name</th>\n",
       "      <th>title_year</th>\n",
       "      <th>imdb_score</th>\n",
       "      <th>budget</th>\n",
       "      <th>gross</th>\n",
       "      <th>profit</th>\n",
       "      <th>decade</th>\n",
       "    </tr>\n",
       "  </thead>\n",
       "  <tbody>\n",
       "    <tr>\n",
       "      <td>0</td>\n",
       "      <td>Avatar</td>\n",
       "      <td>James Cameron</td>\n",
       "      <td>CCH Pounder</td>\n",
       "      <td>2009.0</td>\n",
       "      <td>7.9</td>\n",
       "      <td>237000000.0</td>\n",
       "      <td>760505847.0</td>\n",
       "      <td>523505847.0</td>\n",
       "      <td>2000s</td>\n",
       "    </tr>\n",
       "    <tr>\n",
       "      <td>1</td>\n",
       "      <td>Pirates of the Caribbean: At World's End</td>\n",
       "      <td>Gore Verbinski</td>\n",
       "      <td>Johnny Depp</td>\n",
       "      <td>2007.0</td>\n",
       "      <td>7.1</td>\n",
       "      <td>300000000.0</td>\n",
       "      <td>309404152.0</td>\n",
       "      <td>9404152.0</td>\n",
       "      <td>2000s</td>\n",
       "    </tr>\n",
       "    <tr>\n",
       "      <td>3</td>\n",
       "      <td>The Dark Knight Rises</td>\n",
       "      <td>Christopher Nolan</td>\n",
       "      <td>Tom Hardy</td>\n",
       "      <td>2012.0</td>\n",
       "      <td>8.5</td>\n",
       "      <td>250000000.0</td>\n",
       "      <td>448130642.0</td>\n",
       "      <td>198130642.0</td>\n",
       "      <td>2010s</td>\n",
       "    </tr>\n",
       "    <tr>\n",
       "      <td>5</td>\n",
       "      <td>John Carter</td>\n",
       "      <td>Andrew Stanton</td>\n",
       "      <td>Daryl Sabara</td>\n",
       "      <td>2012.0</td>\n",
       "      <td>6.6</td>\n",
       "      <td>263700000.0</td>\n",
       "      <td>73058679.0</td>\n",
       "      <td>-190641321.0</td>\n",
       "      <td>2010s</td>\n",
       "    </tr>\n",
       "    <tr>\n",
       "      <td>6</td>\n",
       "      <td>Spider-Man 3</td>\n",
       "      <td>Sam Raimi</td>\n",
       "      <td>J.K. Simmons</td>\n",
       "      <td>2007.0</td>\n",
       "      <td>6.2</td>\n",
       "      <td>258000000.0</td>\n",
       "      <td>336530303.0</td>\n",
       "      <td>78530303.0</td>\n",
       "      <td>2000s</td>\n",
       "    </tr>\n",
       "    <tr>\n",
       "      <td>...</td>\n",
       "      <td>...</td>\n",
       "      <td>...</td>\n",
       "      <td>...</td>\n",
       "      <td>...</td>\n",
       "      <td>...</td>\n",
       "      <td>...</td>\n",
       "      <td>...</td>\n",
       "      <td>...</td>\n",
       "      <td>...</td>\n",
       "    </tr>\n",
       "    <tr>\n",
       "      <td>5025</td>\n",
       "      <td>Pink Flamingos</td>\n",
       "      <td>John Waters</td>\n",
       "      <td>Divine</td>\n",
       "      <td>1972.0</td>\n",
       "      <td>6.1</td>\n",
       "      <td>10000.0</td>\n",
       "      <td>180483.0</td>\n",
       "      <td>170483.0</td>\n",
       "      <td>1970s</td>\n",
       "    </tr>\n",
       "    <tr>\n",
       "      <td>5033</td>\n",
       "      <td>Primer</td>\n",
       "      <td>Shane Carruth</td>\n",
       "      <td>Shane Carruth</td>\n",
       "      <td>2004.0</td>\n",
       "      <td>7.0</td>\n",
       "      <td>7000.0</td>\n",
       "      <td>424760.0</td>\n",
       "      <td>417760.0</td>\n",
       "      <td>2000s</td>\n",
       "    </tr>\n",
       "    <tr>\n",
       "      <td>5035</td>\n",
       "      <td>El Mariachi</td>\n",
       "      <td>Robert Rodriguez</td>\n",
       "      <td>Carlos Gallardo</td>\n",
       "      <td>1992.0</td>\n",
       "      <td>6.9</td>\n",
       "      <td>7000.0</td>\n",
       "      <td>2040920.0</td>\n",
       "      <td>2033920.0</td>\n",
       "      <td>1990s</td>\n",
       "    </tr>\n",
       "    <tr>\n",
       "      <td>5037</td>\n",
       "      <td>Newlyweds</td>\n",
       "      <td>Edward Burns</td>\n",
       "      <td>Kerry Bishé</td>\n",
       "      <td>2011.0</td>\n",
       "      <td>6.4</td>\n",
       "      <td>9000.0</td>\n",
       "      <td>4584.0</td>\n",
       "      <td>-4416.0</td>\n",
       "      <td>2010s</td>\n",
       "    </tr>\n",
       "    <tr>\n",
       "      <td>5042</td>\n",
       "      <td>My Date with Drew</td>\n",
       "      <td>Jon Gunn</td>\n",
       "      <td>John August</td>\n",
       "      <td>2004.0</td>\n",
       "      <td>6.6</td>\n",
       "      <td>1100.0</td>\n",
       "      <td>85222.0</td>\n",
       "      <td>84122.0</td>\n",
       "      <td>2000s</td>\n",
       "    </tr>\n",
       "  </tbody>\n",
       "</table>\n",
       "<p>3073 rows × 9 columns</p>\n",
       "</div>"
      ],
      "text/plain": [
       "                                    movie_title      director_name  \\\n",
       "0                                       Avatar       James Cameron   \n",
       "1     Pirates of the Caribbean: At World's End      Gore Verbinski   \n",
       "3                        The Dark Knight Rises   Christopher Nolan   \n",
       "5                                  John Carter      Andrew Stanton   \n",
       "6                                 Spider-Man 3           Sam Raimi   \n",
       "...                                         ...                ...   \n",
       "5025                            Pink Flamingos         John Waters   \n",
       "5033                                    Primer       Shane Carruth   \n",
       "5035                               El Mariachi    Robert Rodriguez   \n",
       "5037                                 Newlyweds        Edward Burns   \n",
       "5042                         My Date with Drew            Jon Gunn   \n",
       "\n",
       "         actor_1_name  title_year  imdb_score       budget        gross  \\\n",
       "0         CCH Pounder      2009.0         7.9  237000000.0  760505847.0   \n",
       "1         Johnny Depp      2007.0         7.1  300000000.0  309404152.0   \n",
       "3           Tom Hardy      2012.0         8.5  250000000.0  448130642.0   \n",
       "5        Daryl Sabara      2012.0         6.6  263700000.0   73058679.0   \n",
       "6        J.K. Simmons      2007.0         6.2  258000000.0  336530303.0   \n",
       "...               ...         ...         ...          ...          ...   \n",
       "5025           Divine      1972.0         6.1      10000.0     180483.0   \n",
       "5033    Shane Carruth      2004.0         7.0       7000.0     424760.0   \n",
       "5035  Carlos Gallardo      1992.0         6.9       7000.0    2040920.0   \n",
       "5037      Kerry Bishé      2011.0         6.4       9000.0       4584.0   \n",
       "5042      John August      2004.0         6.6       1100.0      85222.0   \n",
       "\n",
       "           profit decade  \n",
       "0     523505847.0  2000s  \n",
       "1       9404152.0  2000s  \n",
       "3     198130642.0  2010s  \n",
       "5    -190641321.0  2010s  \n",
       "6      78530303.0  2000s  \n",
       "...           ...    ...  \n",
       "5025     170483.0  1970s  \n",
       "5033     417760.0  2000s  \n",
       "5035    2033920.0  1990s  \n",
       "5037      -4416.0  2010s  \n",
       "5042      84122.0  2000s  \n",
       "\n",
       "[3073 rows x 9 columns]"
      ]
     },
     "execution_count": 40,
     "metadata": {},
     "output_type": "execute_result"
    }
   ],
   "source": [
    "###\n",
    "### YOUR CODE HERE\n",
    "###\n",
    "df = df.copy()\n",
    "df['profit'] = df['gross'] - df['budget']\n",
    "df['decade'] = df['title_year'].apply(lambda x: str(x)[0:3]+'0s')\n",
    "df\n"
   ]
  },
  {
   "cell_type": "markdown",
   "metadata": {
    "deletable": false,
    "editable": false,
    "nbgrader": {
     "grade": false,
     "locked": true,
     "solution": false
    }
   },
   "source": [
    "(d) For the resulting dataframe, what are the top 5 and bottom 5 movies in terms of profit? If we define success as gross divided by budget, which are the top and bottom 5 movies in terms of success?"
   ]
  },
  {
   "cell_type": "code",
   "execution_count": 57,
   "metadata": {},
   "outputs": [
    {
     "name": "stdout",
     "output_type": "stream",
     "text": [
      "0                                   Avatar \n",
      "29                          Jurassic World \n",
      "26                                 Titanic \n",
      "3024    Star Wars: Episode IV - A New Hope \n",
      "3080            E.T. the Extra-Terrestrial \n",
      "Name: movie_title, dtype: object\n",
      "49    Jack the Giant Slayer \n",
      "85                 47 Ronin \n",
      "28               Battleship \n",
      "91        The Polar Express \n",
      "5               John Carter \n",
      "Name: movie_title, dtype: object\n"
     ]
    }
   ],
   "source": [
    "###\n",
    "### YOUR CODE HERE\n",
    "###\n",
    "print(df.sort_values('profit', ascending=False).head(5)['movie_title'])\n",
    "print(df.sort_values('profit', ascending=False).tail(5)['movie_title'])"
   ]
  },
  {
   "cell_type": "code",
   "execution_count": 58,
   "metadata": {},
   "outputs": [
    {
     "name": "stdout",
     "output_type": "stream",
     "text": [
      "4793             Paranormal Activity \n",
      "4799                       Tarnation \n",
      "4707         The Blair Witch Project \n",
      "4984           The Brothers McMullen \n",
      "3278    The Texas Chain Saw Massacre \n",
      "Name: movie_title, dtype: object\n",
      "2378          Leap Year \n",
      "3241    Blonde Ambition \n",
      "4607     The Jimmy Show \n",
      "800       Winter's Tale \n",
      "2589              Vamps \n",
      "Name: movie_title, dtype: object\n"
     ]
    }
   ],
   "source": [
    "df['success'] = df['gross']/df['budget']\n",
    "print(df.sort_values('success', ascending=False).head(5)['movie_title'])\n",
    "print(df.sort_values('success', ascending=False).tail(5)['movie_title'])\n"
   ]
  },
  {
   "cell_type": "markdown",
   "metadata": {},
   "source": [
    "In terms of profit, the top 5 movies are Avatar, Jurassic World, Titanic, Star Wars: Episode IV - A New Hope and E.T. the Extra-Terrestrial.<br>\n",
    "The bottom 5 movies are Jack the Giant Slayer, 47 Ronin, Battleship, The Polar Express and John Carter.<br>\n",
    "In terms of success, the top 5 moves are Paranormal Activity, Tarnation, The Blair Witch Project, the Brotherss McMullen and The Texax Chain Saw Masssacre.<br>\n",
    "The bottom 5 movies are Leap Year, Blonde Ambition, The Jimmy Show, Winter's Tale and Vamps.<br>"
   ]
  },
  {
   "cell_type": "markdown",
   "metadata": {
    "deletable": false,
    "editable": false,
    "nbgrader": {
     "grade": false,
     "locked": true,
     "solution": false
    }
   },
   "source": [
    "(e) Which are the top 5 directors in terms of average imdb score? In terms of highest profit? What are these among directors with 5 or more movies?"
   ]
  },
  {
   "cell_type": "code",
   "execution_count": 79,
   "metadata": {},
   "outputs": [
    {
     "name": "stdout",
     "output_type": "stream",
     "text": [
      "                  imdb_score\n",
      "director_name               \n",
      "Irvin Kershner           8.8\n",
      "Tony Kaye                8.6\n",
      "Charles Chaplin          8.6\n",
      "Alfred Hitchcock         8.5\n",
      "Damien Chazelle          8.5\n"
     ]
    },
    {
     "ename": "AttributeError",
     "evalue": "Cannot access callable attribute 'sort_values' of 'DataFrameGroupBy' objects, try using the 'apply' method",
     "output_type": "error",
     "traceback": [
      "\u001b[0;31m---------------------------------------------------------------------------\u001b[0m",
      "\u001b[0;31mAttributeError\u001b[0m                            Traceback (most recent call last)",
      "\u001b[0;32m<ipython-input-79-c0ab5dcfbe4d>\u001b[0m in \u001b[0;36m<module>\u001b[0;34m\u001b[0m\n\u001b[1;32m      3\u001b[0m \u001b[0;31m###\u001b[0m\u001b[0;34m\u001b[0m\u001b[0;34m\u001b[0m\u001b[0;34m\u001b[0m\u001b[0m\n\u001b[1;32m      4\u001b[0m \u001b[0mprint\u001b[0m\u001b[0;34m(\u001b[0m\u001b[0mdf\u001b[0m\u001b[0;34m[\u001b[0m\u001b[0;34m[\u001b[0m\u001b[0;34m'director_name'\u001b[0m\u001b[0;34m,\u001b[0m\u001b[0;34m'imdb_score'\u001b[0m\u001b[0;34m]\u001b[0m\u001b[0;34m]\u001b[0m\u001b[0;34m.\u001b[0m\u001b[0mgroupby\u001b[0m\u001b[0;34m(\u001b[0m\u001b[0;34m'director_name'\u001b[0m\u001b[0;34m)\u001b[0m\u001b[0;34m.\u001b[0m\u001b[0mmean\u001b[0m\u001b[0;34m(\u001b[0m\u001b[0;34m)\u001b[0m\u001b[0;34m.\u001b[0m\u001b[0msort_values\u001b[0m\u001b[0;34m(\u001b[0m\u001b[0;34m'imdb_score'\u001b[0m\u001b[0;34m,\u001b[0m\u001b[0mascending\u001b[0m\u001b[0;34m=\u001b[0m\u001b[0;32mFalse\u001b[0m\u001b[0;34m)\u001b[0m\u001b[0;34m.\u001b[0m\u001b[0mhead\u001b[0m\u001b[0;34m(\u001b[0m\u001b[0;36m5\u001b[0m\u001b[0;34m)\u001b[0m\u001b[0;34m)\u001b[0m\u001b[0;34m\u001b[0m\u001b[0;34m\u001b[0m\u001b[0m\n\u001b[0;32m----> 5\u001b[0;31m \u001b[0mprint\u001b[0m\u001b[0;34m(\u001b[0m\u001b[0mdf\u001b[0m\u001b[0;34m[\u001b[0m\u001b[0;34m[\u001b[0m\u001b[0;34m'director_name'\u001b[0m\u001b[0;34m,\u001b[0m\u001b[0;34m'profit'\u001b[0m\u001b[0;34m]\u001b[0m\u001b[0;34m]\u001b[0m\u001b[0;34m.\u001b[0m\u001b[0mgroupby\u001b[0m\u001b[0;34m(\u001b[0m\u001b[0;34m'director_name'\u001b[0m\u001b[0;34m)\u001b[0m\u001b[0;34m.\u001b[0m\u001b[0msort_values\u001b[0m\u001b[0;34m(\u001b[0m\u001b[0;34m'profit'\u001b[0m\u001b[0;34m,\u001b[0m\u001b[0mascending\u001b[0m\u001b[0;34m=\u001b[0m\u001b[0;32mFalse\u001b[0m\u001b[0;34m)\u001b[0m\u001b[0;34m.\u001b[0m\u001b[0mhead\u001b[0m\u001b[0;34m(\u001b[0m\u001b[0;36m5\u001b[0m\u001b[0;34m)\u001b[0m\u001b[0;34m)\u001b[0m\u001b[0;34m\u001b[0m\u001b[0;34m\u001b[0m\u001b[0m\n\u001b[0m\u001b[1;32m      6\u001b[0m print((df[['director_name','imdb_score']]\n\u001b[1;32m      7\u001b[0m \u001b[0;34m.\u001b[0m\u001b[0mgroupby\u001b[0m\u001b[0;34m(\u001b[0m\u001b[0;34m\"director_name\"\u001b[0m\u001b[0;34m)\u001b[0m\u001b[0;34m\u001b[0m\u001b[0;34m\u001b[0m\u001b[0m\n",
      "\u001b[0;32m/opt/anaconda3/lib/python3.7/site-packages/pandas/core/groupby/groupby.py\u001b[0m in \u001b[0;36m__getattr__\u001b[0;34m(self, attr)\u001b[0m\n\u001b[1;32m    561\u001b[0m             \u001b[0;32mreturn\u001b[0m \u001b[0mself\u001b[0m\u001b[0;34m[\u001b[0m\u001b[0mattr\u001b[0m\u001b[0;34m]\u001b[0m\u001b[0;34m\u001b[0m\u001b[0;34m\u001b[0m\u001b[0m\n\u001b[1;32m    562\u001b[0m         \u001b[0;32mif\u001b[0m \u001b[0mhasattr\u001b[0m\u001b[0;34m(\u001b[0m\u001b[0mself\u001b[0m\u001b[0;34m.\u001b[0m\u001b[0mobj\u001b[0m\u001b[0;34m,\u001b[0m \u001b[0mattr\u001b[0m\u001b[0;34m)\u001b[0m\u001b[0;34m:\u001b[0m\u001b[0;34m\u001b[0m\u001b[0;34m\u001b[0m\u001b[0m\n\u001b[0;32m--> 563\u001b[0;31m             \u001b[0;32mreturn\u001b[0m \u001b[0mself\u001b[0m\u001b[0;34m.\u001b[0m\u001b[0m_make_wrapper\u001b[0m\u001b[0;34m(\u001b[0m\u001b[0mattr\u001b[0m\u001b[0;34m)\u001b[0m\u001b[0;34m\u001b[0m\u001b[0;34m\u001b[0m\u001b[0m\n\u001b[0m\u001b[1;32m    564\u001b[0m \u001b[0;34m\u001b[0m\u001b[0m\n\u001b[1;32m    565\u001b[0m         raise AttributeError(\n",
      "\u001b[0;32m/opt/anaconda3/lib/python3.7/site-packages/pandas/core/groupby/groupby.py\u001b[0m in \u001b[0;36m_make_wrapper\u001b[0;34m(self, name)\u001b[0m\n\u001b[1;32m    602\u001b[0m                 \u001b[0;34m\"using the 'apply' method\"\u001b[0m\u001b[0;34m.\u001b[0m\u001b[0mformat\u001b[0m\u001b[0;34m(\u001b[0m\u001b[0mkind\u001b[0m\u001b[0;34m,\u001b[0m \u001b[0mname\u001b[0m\u001b[0;34m,\u001b[0m \u001b[0mtype\u001b[0m\u001b[0;34m(\u001b[0m\u001b[0mself\u001b[0m\u001b[0;34m)\u001b[0m\u001b[0;34m.\u001b[0m\u001b[0m__name__\u001b[0m\u001b[0;34m)\u001b[0m\u001b[0;34m\u001b[0m\u001b[0;34m\u001b[0m\u001b[0m\n\u001b[1;32m    603\u001b[0m             )\n\u001b[0;32m--> 604\u001b[0;31m             \u001b[0;32mraise\u001b[0m \u001b[0mAttributeError\u001b[0m\u001b[0;34m(\u001b[0m\u001b[0mmsg\u001b[0m\u001b[0;34m)\u001b[0m\u001b[0;34m\u001b[0m\u001b[0;34m\u001b[0m\u001b[0m\n\u001b[0m\u001b[1;32m    605\u001b[0m \u001b[0;34m\u001b[0m\u001b[0m\n\u001b[1;32m    606\u001b[0m         \u001b[0mself\u001b[0m\u001b[0;34m.\u001b[0m\u001b[0m_set_group_selection\u001b[0m\u001b[0;34m(\u001b[0m\u001b[0;34m)\u001b[0m\u001b[0;34m\u001b[0m\u001b[0;34m\u001b[0m\u001b[0m\n",
      "\u001b[0;31mAttributeError\u001b[0m: Cannot access callable attribute 'sort_values' of 'DataFrameGroupBy' objects, try using the 'apply' method"
     ]
    }
   ],
   "source": [
    "###\n",
    "### YOUR CODE HERE\n",
    "###\n",
    "print(df[['director_name','imdb_score']].groupby('director_name').mean().sort_values('imdb_score',ascending=False).head(5))\n",
    "print(df[['director_name','profit']].groupby('director_name').mean().sort_values('profit',ascending=False).head(5))\n",
    "print((df[['director_name','imdb_score']]\n",
    ".groupby(\"director_name\")\n",
    ".filter(lambda x: len(x) > 5) \n",
    ".groupby(\"director_name\").mean() \n",
    ".sort_values('imdb_score', ascending=False)\n",
    ".head(5)))\n",
    "print((df[['director_name','profit']]\n",
    ".groupby(\"director_name\")\n",
    ".filter(lambda x: len(x) > 5) \n",
    ".groupby(\"director_name\").mean() \n",
    ".sort_values('profit', ascending=False)\n",
    ".head(5)))"
   ]
  },
  {
   "cell_type": "markdown",
   "metadata": {},
   "source": [
    "Top 5 directors in terms of average imdb score are Irvin Kershner, Tony Kaye, Charles Chaplin, Alfred Hitchcock and Damien Chazelle <br>\n",
    "Top 5 directors in terms of profit are Tim Miller, George Lucas, Richard Marquand, Irvin Kersshner and Kyle Balda <br>\n",
    "directors with 5 or more movies: <br>\n",
    "top 5 in terms of imdb score: <br>\n",
    "Christopher Nolan, Quentin Tarantino, James Cameron, Peter Jackson and David Fincher <br>"
   ]
  },
  {
   "cell_type": "markdown",
   "metadata": {
    "deletable": false,
    "editable": false,
    "nbgrader": {
     "grade": false,
     "locked": true,
     "solution": false
    }
   },
   "source": [
    "(f) Write a function that returns a dataframe with decades (in chronological order) as rows, and with columns giving the mean and median: budget, gross and profit of movies from that year."
   ]
  },
  {
   "cell_type": "code",
   "execution_count": 17,
   "metadata": {},
   "outputs": [],
   "source": [
    "###\n",
    "### YOUR CODE HERE\n",
    "###\n"
   ]
  },
  {
   "cell_type": "markdown",
   "metadata": {
    "deletable": false,
    "editable": false,
    "nbgrader": {
     "grade": false,
     "locked": true,
     "solution": false
    }
   },
   "source": [
    "(g) The decade_adjusted_profit of a movie is its profit divided by the mean profit of movies of that decade. Similarly, the decade adjusted gross of a movie is how much it grosses divided by the mean gross of movies of that decade. Use the dataframe from part (e) to add two new columns to the original dataframe: 'decade_adjusted_profit' and 'decade_adjusted_gross'.\n",
    "\n",
    " __ You can use loops for this part, but you must then loop over the dataframe movie\\_decade (which has only 10 rows), rather than the original, big dataframe__.\n",
    "\n",
    "What are the top and bottom 5 movies according to each of these two values?"
   ]
  },
  {
   "cell_type": "code",
   "execution_count": 18,
   "metadata": {},
   "outputs": [],
   "source": [
    "###\n",
    "### YOUR CODE HERE\n",
    "###\n"
   ]
  },
  {
   "cell_type": "markdown",
   "metadata": {
    "deletable": false,
    "editable": false,
    "nbgrader": {
     "grade": false,
     "locked": true,
     "solution": false
    }
   },
   "source": [
    "(h) Reload the movie dataset, and create a smaller dataframe, now keeping only the columns movie_title, director_name  imdb_score, gross and genres, and only rows corresponding to movies made in the USA. After this, remove all rows with NAs.\n",
    "\n",
    "How many movies belong to the genre 'Comedy', and what are their average gross and imdb_score?\n",
    "Repeat this for the genres 'Action', 'Drama' and 'Romance'. Print these results as a dataframe with rows 'Comedy', 'Action', 'Drama' and 'Romance' and with columns 'Number', 'Gross' and 'imdb_score'.\n",
    "\n",
    "Note that a movie can belong to multiple genres.\n",
    "\n",
    "Hint: the 'contains' method for pandas series might be useful"
   ]
  },
  {
   "cell_type": "code",
   "execution_count": 19,
   "metadata": {},
   "outputs": [],
   "source": [
    "###\n",
    "### YOUR CODE HERE\n",
    "###\n"
   ]
  },
  {
   "cell_type": "markdown",
   "metadata": {
    "collapsed": true,
    "deletable": false,
    "editable": false,
    "nbgrader": {
     "grade": false,
     "locked": true,
     "solution": false
    }
   },
   "source": [
    "(i) For each of the genres of the previous question, which is the top 3 directors with highest imdb scores in that genre. The directors must have atleast 3 movies in that genres."
   ]
  },
  {
   "cell_type": "code",
   "execution_count": 20,
   "metadata": {},
   "outputs": [],
   "source": [
    "###\n",
    "### YOUR CODE HERE\n",
    "###\n"
   ]
  }
 ],
 "metadata": {
  "kernelspec": {
   "display_name": "Python 3",
   "language": "python",
   "name": "python3"
  },
  "language_info": {
   "codemirror_mode": {
    "name": "ipython",
    "version": 3
   },
   "file_extension": ".py",
   "mimetype": "text/x-python",
   "name": "python",
   "nbconvert_exporter": "python",
   "pygments_lexer": "ipython3",
   "version": "3.7.4"
  }
 },
 "nbformat": 4,
 "nbformat_minor": 2
}
