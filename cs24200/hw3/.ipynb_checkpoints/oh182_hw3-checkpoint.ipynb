{
 "cells": [
  {
   "cell_type": "markdown",
   "metadata": {
    "deletable": false,
    "editable": false,
    "nbgrader": {
     "grade": false,
     "locked": true,
     "solution": false
    }
   },
   "source": [
    "# Homework 3"
   ]
  },
  {
   "cell_type": "markdown",
   "metadata": {},
   "source": [
    "Byoungjin Oh"
   ]
  },
  {
   "cell_type": "markdown",
   "metadata": {
    "deletable": false,
    "editable": false,
    "nbgrader": {
     "grade": false,
     "locked": true,
     "solution": false
    }
   },
   "source": [
    "CS 242, Fall 2020; Instructor: Vinayak Rao \n",
    "\n",
    "Due: Saturday, February 22, 11:59PM, submit to Blackboard  \n",
    "(Posted Feb 15, 2020)\n",
    "\n",
    "Please submit this homework as a single Jupyter notebook (__YOURNAME_hw3.ipynb__ file) to Blackboard before the deadline: __11:59pm Saturday, Feb 22__. \n",
    "\n",
    "+ Please add you name to the top of the homework notebook, and to the name of the notebook file. \n",
    "+ Any paragraph/descriptive/yes-no answers that you want to be considered for grading must be included as separate markdown cells in the Jupyter notebook (rather than as comments in the code), and these cells should accompany the associated questions: graders cannot be expected to hunt through your submission to find answers to individual questions. Please post any questions you have on piazza.\n",
    "\n",
    "__Important__\n",
    "\n",
    "+ For this homework you can __ONLY__ use the python libraries math, numpy, pandas and statsmodels.formula.api. \n",
    "+ Unless specified, you will lose upto 25% credit if you use loops of any kind. For full points, you should use pandas functionality, with code that returns correct answers if run on a test dataframe with the numeric entries changed.\n",
    "+ A few questions have no right/wrong answers, rather we are just interested in your thought process\n",
    "\n",
    "__Suggestion__\n",
    "+ To help validate your code, create smaller versions of the provided datasets where you can calculate quantities by hand, and make sure your code agrees with these numbers\n",
    "+ It is a good idea (if possible) to download the notebook and work on it on your own computer. "
   ]
  },
  {
   "cell_type": "code",
   "execution_count": 1,
   "metadata": {
    "deletable": false,
    "editable": false,
    "nbgrader": {
     "grade": false,
     "locked": true,
     "solution": false
    }
   },
   "outputs": [],
   "source": [
    "# Run this cell to load packages\n",
    "%matplotlib inline\n",
    "import numpy as np\n",
    "import pandas as pd\n",
    "import statsmodels.formula.api as smf"
   ]
  },
  {
   "cell_type": "markdown",
   "metadata": {
    "deletable": false,
    "editable": false,
    "nbgrader": {
     "grade": false,
     "locked": true,
     "solution": false
    }
   },
   "source": [
    "The 2020 Democratic Party presidential primaries have seen renewed scrutiny of the New York police department's policy of [stop-and-frisk](https://en.wikipedia.org/wiki/Stop-and-frisk_in_New_York_City). The program was controversial because of suggestions of racial profiling, i.e. that some minorities were unfairly targeted by the police.\n",
    "\n",
    "The dataset frisk.csv includes recordings of NYPD stops for a fifteen-month period in 1998 - 1999. The specific variables contained in this data are:\n",
    "+ precint: [NYC precint](https://data.cityofnewyork.us/Public-Safety/Police-Precincts/78dh-3ptz) indicator, with values 1, 2, . . . , 75. \n",
    "+ eth: Ethnicity indicator, with 1 denoting Black, 2 denoting Hispanic, and 3 denoting White.\n",
    "+ popl: The total population of a particular ethnicity in a given precint. \n",
    "+ crime: Crime category indicator, with 1 denoting violent crimes, 2 denoting weapons crimes, 3 denoting property crimes, and 4 denoting drug crimes.\n",
    "+ stops: Number of police stops for a specific crime category among individuals of a particular ethnicity in a given precint. \n",
    "+ past: The total number of past arrests for a specific crime category among individuals of a particular ethnicity in a given precint."
   ]
  },
  {
   "cell_type": "markdown",
   "metadata": {
    "deletable": false,
    "editable": false,
    "nbgrader": {
     "grade": false,
     "locked": true,
     "solution": false
    }
   },
   "source": [
    "1) Load the dataset from $\\mathtt{frisk.csv}$. The column crime indicates 4 different kinds of crime. For simplicity, we will pool information across crime types. Produce a smaller dataframe without the column $\\mathtt{crime}$, and with $\\mathtt{stops}$ and $\\mathtt{popl}$ giving the total number of stops and past arrests for that $\\mathtt{(precinct,eth)}$ irrespective of crime type. The new dataframe can have $\\mathtt{precinct}$ as a separate column or as row names (see the output below), but __must__ have $\\mathtt{eth}$ as a column name. Print the first 10 rows. $\\ $   (5pts)\n",
    "\n",
    "__ (You code should not use for loops, nor depend on the ordering of the rows) __\n",
    "\n",
    "<code>\n",
    "Sample output:\n",
    "\teth\tpopl\tstops\tpast\n",
    "precinct\t\t\t\t\n",
    "1\t1\t1720\t202\t980\n",
    "1\t2\t1368\t102\t295\n",
    "1\t3\t23854\t81\t381\n",
    "2\t1\t2596\t132\t753\n",
    "2\t2\t6844\t144\t557\n",
    "</code>"
   ]
  },
  {
   "cell_type": "code",
   "execution_count": 2,
   "metadata": {},
   "outputs": [
    {
     "name": "stdout",
     "output_type": "stream",
     "text": [
      "     precinct  eth    popl  stops  past\n",
      "0           1    1    6880    202   980\n",
      "1           1    2    5472    102   295\n",
      "2           1    3   95416     81   381\n",
      "3           2    1   10384    132   753\n",
      "4           2    2   27376    144   557\n",
      "..        ...  ...     ...    ...   ...\n",
      "220        74    2   37784    234   282\n",
      "221        74    3  605464    896  1493\n",
      "222        75    1    4112      7    16\n",
      "223        75    2   12932     20    44\n",
      "224        75    3  246768    295   312\n",
      "\n",
      "[225 rows x 5 columns]\n"
     ]
    }
   ],
   "source": [
    "###\n",
    "### YOUR CODE HERE\n",
    "###\n",
    "df = pd.read_csv('frisk.csv')\n",
    "frisk = df.groupby(['precinct','eth']).agg({'popl':'sum','stops':'sum','past':'sum'}).reset_index()\n",
    "print(frisk)"
   ]
  },
  {
   "cell_type": "markdown",
   "metadata": {
    "collapsed": true,
    "deletable": false,
    "editable": false,
    "nbgrader": {
     "grade": false,
     "locked": true,
     "solution": false
    }
   },
   "source": [
    "2a) Plot a scatter plot of population of precinct (x-axis) vs number of stops in that precinct (y-axis). \n",
    "Fit a straight line __passing through the origin__ for this data, with $\\mathtt{stops}$ as output and $\\mathtt{popl}$ as input. Report its parameters, and show this line in the earlier plot.    $\\ $ (5pts)\n",
    "\n",
    "2b) The slope of the line gives the increase in the number of stops if the population increases by 1 (or put another way, the average number of stops a new person would experience in that period). Under this model, what happens to the number of stops if the population doubles?  $\\ $ (1pt)"
   ]
  },
  {
   "cell_type": "code",
   "execution_count": 3,
   "metadata": {},
   "outputs": [
    {
     "name": "stdout",
     "output_type": "stream",
     "text": [
      "popl    0.003345\n",
      "dtype: float64\n",
      "                                 OLS Regression Results                                \n",
      "=======================================================================================\n",
      "Dep. Variable:                  stops   R-squared (uncentered):                   0.486\n",
      "Model:                            OLS   Adj. R-squared (uncentered):              0.484\n",
      "Method:                 Least Squares   F-statistic:                              211.9\n",
      "Date:                Sat, 22 Feb 2020   Prob (F-statistic):                    3.17e-34\n",
      "Time:                        13:53:08   Log-Likelihood:                         -1761.1\n",
      "No. Observations:                 225   AIC:                                      3524.\n",
      "Df Residuals:                     224   BIC:                                      3528.\n",
      "Df Model:                           1                                                  \n",
      "Covariance Type:            nonrobust                                                  \n",
      "==============================================================================\n",
      "                 coef    std err          t      P>|t|      [0.025      0.975]\n",
      "------------------------------------------------------------------------------\n",
      "popl           0.0033      0.000     14.556      0.000       0.003       0.004\n",
      "==============================================================================\n",
      "Omnibus:                       18.952   Durbin-Watson:                   2.106\n",
      "Prob(Omnibus):                  0.000   Jarque-Bera (JB):               49.304\n",
      "Skew:                           0.301   Prob(JB):                     1.97e-11\n",
      "Kurtosis:                       5.213   Cond. No.                         1.00\n",
      "==============================================================================\n",
      "\n",
      "Warnings:\n",
      "[1] Standard Errors assume that the covariance matrix of the errors is correctly specified.\n"
     ]
    },
    {
     "data": {
      "image/png": "[encoded data removed]",
      "text/plain": [
       "<Figure size 432x288 with 1 Axes>"
      ]
     },
     "metadata": {
      "needs_background": "light"
     },
     "output_type": "display_data"
    }
   ],
   "source": [
    "###\n",
    "### YOUR CODE HERE\n",
    "###\n",
    "mod = smf.ols(formula = 'stops~popl-1', data=frisk) # OLS: ordinary least squares\n",
    "rslt = mod.fit()\n",
    "\n",
    "ax = frisk.plot(x='popl', y='stops', kind='scatter')\n",
    "# plot regression line\n",
    "xmin, xmax = frisk.popl.min(),frisk.popl.max()\n",
    "x = np.arange(xmin, xmax)\n",
    "ax.plot(x,x*rslt.params[0], linewidth=2, color='red')\n",
    "ax.set_xlim([xmin,xmax])\n",
    "print(rslt.params)\n",
    "print(rslt.summary())\n",
    "\n"
   ]
  },
  {
   "cell_type": "markdown",
   "metadata": {},
   "source": [
    "A. 2b) The number of stops will be doubled as well if the population doubles."
   ]
  },
  {
   "cell_type": "markdown",
   "metadata": {},
   "source": [
    "3a) Now fit a general straight line for this data, again with $\\mathtt{stops}$ as output and $\\mathtt{popl}$ as input, and report the parameters. Create another scatterplot of the data with this line plotted. $\\ $ (5pts)\n",
    "\n",
    "3b) How do you interpret the slope of this new line? Does this new model assume that the number of stops doubles if the population doubles? Briefly explain your answer.   $\\ $ (2pts)\n",
    "\n",
    "__Note:__ The intercept of this line gives the number of stops when the population equals 0. Clearly, this does not make any sense. However, in practice, we are not interested in such input values. Including the intercept allows us to better fit the data for useful input values. It is important to not blindly extrapolate to values where the model is unreasonable, or where we haven't seen any data."
   ]
  },
  {
   "cell_type": "code",
   "execution_count": 4,
   "metadata": {},
   "outputs": [
    {
     "name": "stdout",
     "output_type": "stream",
     "text": [
      "Intercept    339.507183\n",
      "popl           0.002031\n",
      "dtype: float64\n",
      "                            OLS Regression Results                            \n",
      "==============================================================================\n",
      "Dep. Variable:                  stops   R-squared:                       0.183\n",
      "Model:                            OLS   Adj. R-squared:                  0.179\n",
      "Method:                 Least Squares   F-statistic:                     49.85\n",
      "Date:                Sat, 22 Feb 2020   Prob (F-statistic):           2.08e-11\n",
      "Time:                        13:53:08   Log-Likelihood:                -1740.5\n",
      "No. Observations:                 225   AIC:                             3485.\n",
      "Df Residuals:                     223   BIC:                             3492.\n",
      "Df Model:                           1                                         \n",
      "Covariance Type:            nonrobust                                         \n",
      "==============================================================================\n",
      "                 coef    std err          t      P>|t|      [0.025      0.975]\n",
      "------------------------------------------------------------------------------\n",
      "Intercept    339.5072     50.741      6.691      0.000     239.514     439.500\n",
      "popl           0.0020      0.000      7.060      0.000       0.001       0.003\n",
      "==============================================================================\n",
      "Omnibus:                       54.748   Durbin-Watson:                   2.306\n",
      "Prob(Omnibus):                  0.000   Jarque-Bera (JB):               99.496\n",
      "Skew:                           1.251   Prob(JB):                     2.48e-22\n",
      "Kurtosis:                       5.087   Cond. No.                     2.41e+05\n",
      "==============================================================================\n",
      "\n",
      "Warnings:\n",
      "[1] Standard Errors assume that the covariance matrix of the errors is correctly specified.\n",
      "[2] The condition number is large, 2.41e+05. This might indicate that there are\n",
      "strong multicollinearity or other numerical problems.\n"
     ]
    },
    {
     "data": {
      "image/png": "[encoded data removed]",
      "text/plain": [
       "<Figure size 432x288 with 1 Axes>"
      ]
     },
     "metadata": {
      "needs_background": "light"
     },
     "output_type": "display_data"
    }
   ],
   "source": [
    "###\n",
    "### YOUR CODE HERE\n",
    "###\n",
    "mod = smf.ols(formula = 'stops~popl', data=frisk) # OLS: ordinary least squares\n",
    "rslt = mod.fit()\n",
    "\n",
    "ax = frisk.plot(x='popl', y='stops', kind='scatter')\n",
    "# plot regression line\n",
    "xmin, xmax = frisk.popl.min(),frisk.popl.max()\n",
    "x = np.arange(xmin, xmax)\n",
    "ax.plot(x,rslt.params[0]+ x*rslt.params[1], linewidth=2, color='red')\n",
    "ax.set_xlim([xmin,xmax])\n",
    "print(rslt.params)\n",
    "print(rslt.summary())\n"
   ]
  },
  {
   "cell_type": "markdown",
   "metadata": {},
   "source": [
    "A. 3b) The slope of this new line is smaller than line in q2 which means the number of stops grows slower than in q2. Therefore, this new model assumes that the number of stops does not double if the population doubles, it will be smaller than its double."
   ]
  },
  {
   "cell_type": "markdown",
   "metadata": {},
   "source": [
    "The previous model assumes the numbers of stops in a precinct depends only on the precinct's population. Another approach is to model the number of stops in a precinct as a function of the precinct's crime rate. As a proxy for crime rate, we will use the number of arrests in the previous year (column $\\mathtt{past}$).\n",
    "\n",
    "4a) Fit a linear function with $\\mathtt{past}$$\\mathtt{stops}$ as output, and report the slope and intercept. Plot a scatterplot of $\\mathtt{past}$ vs $\\mathtt{stops}$, along with the fitted line. What is the interpretation of the slope of this line?  $\\ $ (5pts)\n",
    "\n",
    "4b) Briefly suggest any problems with using past arrests as a proxy for crime rate.  $\\ $ (1pt)"
   ]
  },
  {
   "cell_type": "code",
   "execution_count": 5,
   "metadata": {},
   "outputs": [
    {
     "name": "stdout",
     "output_type": "stream",
     "text": [
      "Intercept    159.196710\n",
      "past           0.404165\n",
      "dtype: float64\n",
      "                            OLS Regression Results                            \n",
      "==============================================================================\n",
      "Dep. Variable:                  stops   R-squared:                       0.576\n",
      "Model:                            OLS   Adj. R-squared:                  0.574\n",
      "Method:                 Least Squares   F-statistic:                     302.7\n",
      "Date:                Sat, 22 Feb 2020   Prob (F-statistic):           2.10e-43\n",
      "Time:                        13:53:09   Log-Likelihood:                -1666.7\n",
      "No. Observations:                 225   AIC:                             3337.\n",
      "Df Residuals:                     223   BIC:                             3344.\n",
      "Df Model:                           1                                         \n",
      "Covariance Type:            nonrobust                                         \n",
      "==============================================================================\n",
      "                 coef    std err          t      P>|t|      [0.025      0.975]\n",
      "------------------------------------------------------------------------------\n",
      "Intercept    159.1967     36.193      4.398      0.000      87.872     230.522\n",
      "past           0.4042      0.023     17.397      0.000       0.358       0.450\n",
      "==============================================================================\n",
      "Omnibus:                       25.212   Durbin-Watson:                   1.486\n",
      "Prob(Omnibus):                  0.000   Jarque-Bera (JB):               72.661\n",
      "Skew:                           0.422   Prob(JB):                     1.67e-16\n",
      "Kurtosis:                       5.653   Cond. No.                     2.11e+03\n",
      "==============================================================================\n",
      "\n",
      "Warnings:\n",
      "[1] Standard Errors assume that the covariance matrix of the errors is correctly specified.\n",
      "[2] The condition number is large, 2.11e+03. This might indicate that there are\n",
      "strong multicollinearity or other numerical problems.\n"
     ]
    },
    {
     "data": {
      "image/png": "[encoded data removed]",
      "text/plain": [
       "<Figure size 432x288 with 1 Axes>"
      ]
     },
     "metadata": {
      "needs_background": "light"
     },
     "output_type": "display_data"
    }
   ],
   "source": [
    "###\n",
    "### YOUR CODE HERE\n",
    "###\n",
    "mod = smf.ols(formula = 'stops~past', data=frisk) # OLS: ordinary least squares\n",
    "rslt = mod.fit()\n",
    "ax = frisk.plot(x='past', y='stops', kind='scatter')\n",
    "# plot regression line\n",
    "xmin, xmax = frisk.past.min(),frisk.past.max()\n",
    "x = np.arange(xmin, xmax)\n",
    "ax.plot(x,rslt.params[0]+ x*rslt.params[1], linewidth=2, color='red')\n",
    "ax.set_xlim([xmin,xmax])\n",
    "print(rslt.params)\n",
    "print(rslt.summary())\n"
   ]
  },
  {
   "cell_type": "markdown",
   "metadata": {},
   "source": [
    "A. 4a) The slope of this line is bigger than the slope of the line of popl. Therefore, stops grows faster with past than with popl. <br>\n",
    "4b)The number of past is also dependent to population, so it would be better to use both popl and past."
   ]
  },
  {
   "cell_type": "markdown",
   "metadata": {},
   "source": [
    "5a) In general, we expect the number of stops to depend on both population size and crime rate. Fit a linear model with $\\mathtt{stops}$ as the output, and both $\\mathtt{popl}$ __and__ $\\mathtt{past}$ as inputs. Report the fitted parameters (including intercept). $\\ $ (2pts)\n",
    "\n",
    "5b)This model breaks down the number of stops as dependent on two factors, population size and crime rate. The coefficient associated with $\\mathtt{popl}$ gives the increase in the number stops if $\\mathtt{popl}$ increases by one, _keeping $\\mathtt{past}$ fixed_ (i.e. controlling for crime rate). What is the interpretation of the coefficient of $\\mathtt{past}$? $ $ (1pts)"
   ]
  },
  {
   "cell_type": "code",
   "execution_count": 6,
   "metadata": {},
   "outputs": [
    {
     "name": "stdout",
     "output_type": "stream",
     "text": [
      "Intercept    104.501231\n",
      "past           0.371986\n",
      "popl           0.000735\n",
      "dtype: float64\n",
      "                            OLS Regression Results                            \n",
      "==============================================================================\n",
      "Dep. Variable:                  stops   R-squared:                       0.596\n",
      "Model:                            OLS   Adj. R-squared:                  0.592\n",
      "Method:                 Least Squares   F-statistic:                     163.8\n",
      "Date:                Sat, 22 Feb 2020   Prob (F-statistic):           2.00e-44\n",
      "Time:                        13:53:09   Log-Likelihood:                -1661.2\n",
      "No. Observations:                 225   AIC:                             3328.\n",
      "Df Residuals:                     222   BIC:                             3339.\n",
      "Df Model:                           2                                         \n",
      "Covariance Type:            nonrobust                                         \n",
      "==============================================================================\n",
      "                 coef    std err          t      P>|t|      [0.025      0.975]\n",
      "------------------------------------------------------------------------------\n",
      "Intercept    104.5012     39.004      2.679      0.008      27.636     181.366\n",
      "past           0.3720      0.025     15.073      0.000       0.323       0.421\n",
      "popl           0.0007      0.000      3.339      0.001       0.000       0.001\n",
      "==============================================================================\n",
      "Omnibus:                       27.964   Durbin-Watson:                   1.612\n",
      "Prob(Omnibus):                  0.000   Jarque-Bera (JB):               67.853\n",
      "Skew:                           0.552   Prob(JB):                     1.84e-15\n",
      "Kurtosis:                       5.454   Cond. No.                     2.63e+05\n",
      "==============================================================================\n",
      "\n",
      "Warnings:\n",
      "[1] Standard Errors assume that the covariance matrix of the errors is correctly specified.\n",
      "[2] The condition number is large, 2.63e+05. This might indicate that there are\n",
      "strong multicollinearity or other numerical problems.\n"
     ]
    }
   ],
   "source": [
    "###\n",
    "### YOUR CODE HERE\n",
    "###\n",
    "mod = smf.ols(formula = 'stops~past+popl', data=frisk) # OLS: ordinary least squares\n",
    "rslt = mod.fit()\n",
    "print(rslt.params)\n",
    "print(rslt.summary())\n"
   ]
  },
  {
   "cell_type": "markdown",
   "metadata": {},
   "source": [
    "A. 5b) The coefficient of 𝚙𝚊𝚜𝚝 also gives the increase in the number stops when past increases"
   ]
  },
  {
   "cell_type": "markdown",
   "metadata": {},
   "source": [
    "6a) Again produce scatterplots of popl vs stops and past vs stops, now coloring each point according to the value of eth. Use a clear colormap (e.g. 'gist_rainbow') (6pts)"
   ]
  },
  {
   "cell_type": "code",
   "execution_count": 7,
   "metadata": {},
   "outputs": [
    {
     "data": {
      "image/png": "[encoded data removed]",
      "text/plain": [
       "<Figure size 432x288 with 2 Axes>"
      ]
     },
     "metadata": {
      "needs_background": "light"
     },
     "output_type": "display_data"
    }
   ],
   "source": [
    "###\n",
    "### YOUR CODE HERE\n",
    "###\n",
    "\n",
    "ax = frisk.plot(x='past', y='stops', kind='scatter', c='eth',colormap='gist_rainbow')\n"
   ]
  },
  {
   "cell_type": "markdown",
   "metadata": {},
   "source": [
    "7a) Create a new dataframe called eth\\_count from frisk with 3 rows called 'black', 'hispanic' and 'white', and three columns 'stops', 'popl' and 'past'. Each element of $\\mathtt{stops}$ should give the total number of stops for the 3 groups, and similarly for $\\mathtt{popl}$ and $\\mathtt{past}$. $\\ $ (4pts)\n",
    "\n",
    "7b) Divide each column of eth_count by its sum, producing a new dataframe called eth_prop. Here, each element of $\\mathtt{stops}$ should give the proportion of stops for the 3 groups, and similarly for popl and past. $\\ $ (2pts)"
   ]
  },
  {
   "cell_type": "code",
   "execution_count": 8,
   "metadata": {},
   "outputs": [
    {
     "data": {
      "text/html": [
       "<div>\n",
       "<style scoped>\n",
       "    .dataframe tbody tr th:only-of-type {\n",
       "        vertical-align: middle;\n",
       "    }\n",
       "\n",
       "    .dataframe tbody tr th {\n",
       "        vertical-align: top;\n",
       "    }\n",
       "\n",
       "    .dataframe thead th {\n",
       "        text-align: right;\n",
       "    }\n",
       "</style>\n",
       "<table border=\"1\" class=\"dataframe\">\n",
       "  <thead>\n",
       "    <tr style=\"text-align: right;\">\n",
       "      <th></th>\n",
       "      <th>stops</th>\n",
       "      <th>popl</th>\n",
       "      <th>past</th>\n",
       "    </tr>\n",
       "    <tr>\n",
       "      <th>eth</th>\n",
       "      <th></th>\n",
       "      <th></th>\n",
       "      <th></th>\n",
       "    </tr>\n",
       "  </thead>\n",
       "  <tbody>\n",
       "    <tr>\n",
       "      <td>black</td>\n",
       "      <td>69823</td>\n",
       "      <td>7463580</td>\n",
       "      <td>125719</td>\n",
       "    </tr>\n",
       "    <tr>\n",
       "      <td>hispanic</td>\n",
       "      <td>44623</td>\n",
       "      <td>6929076</td>\n",
       "      <td>74898</td>\n",
       "    </tr>\n",
       "    <tr>\n",
       "      <td>white</td>\n",
       "      <td>16974</td>\n",
       "      <td>12701416</td>\n",
       "      <td>35922</td>\n",
       "    </tr>\n",
       "  </tbody>\n",
       "</table>\n",
       "</div>"
      ],
      "text/plain": [
       "          stops      popl    past\n",
       "eth                              \n",
       "black     69823   7463580  125719\n",
       "hispanic  44623   6929076   74898\n",
       "white     16974  12701416   35922"
      ]
     },
     "execution_count": 8,
     "metadata": {},
     "output_type": "execute_result"
    }
   ],
   "source": [
    "###\n",
    "### YOUR CODE HERE\n",
    "###\n",
    "\n",
    "eth_count = frisk.groupby('eth').agg({'stops':'sum','popl':'sum','past':'sum'})\n",
    "\n",
    "eth_count = eth_count.rename(index={1:'black',2:'hispanic',3:'white'})\n",
    "\n",
    "eth_count"
   ]
  },
  {
   "cell_type": "code",
   "execution_count": 9,
   "metadata": {},
   "outputs": [
    {
     "data": {
      "text/html": [
       "<div>\n",
       "<style scoped>\n",
       "    .dataframe tbody tr th:only-of-type {\n",
       "        vertical-align: middle;\n",
       "    }\n",
       "\n",
       "    .dataframe tbody tr th {\n",
       "        vertical-align: top;\n",
       "    }\n",
       "\n",
       "    .dataframe thead th {\n",
       "        text-align: right;\n",
       "    }\n",
       "</style>\n",
       "<table border=\"1\" class=\"dataframe\">\n",
       "  <thead>\n",
       "    <tr style=\"text-align: right;\">\n",
       "      <th></th>\n",
       "      <th>stops</th>\n",
       "      <th>popl</th>\n",
       "      <th>past</th>\n",
       "    </tr>\n",
       "    <tr>\n",
       "      <th>eth</th>\n",
       "      <th></th>\n",
       "      <th></th>\n",
       "      <th></th>\n",
       "    </tr>\n",
       "  </thead>\n",
       "  <tbody>\n",
       "    <tr>\n",
       "      <td>black</td>\n",
       "      <td>0.531297</td>\n",
       "      <td>0.275469</td>\n",
       "      <td>0.531494</td>\n",
       "    </tr>\n",
       "    <tr>\n",
       "      <td>hispanic</td>\n",
       "      <td>0.339545</td>\n",
       "      <td>0.255741</td>\n",
       "      <td>0.316641</td>\n",
       "    </tr>\n",
       "    <tr>\n",
       "      <td>white</td>\n",
       "      <td>0.129158</td>\n",
       "      <td>0.468789</td>\n",
       "      <td>0.151865</td>\n",
       "    </tr>\n",
       "  </tbody>\n",
       "</table>\n",
       "</div>"
      ],
      "text/plain": [
       "             stops      popl      past\n",
       "eth                                   \n",
       "black     0.531297  0.275469  0.531494\n",
       "hispanic  0.339545  0.255741  0.316641\n",
       "white     0.129158  0.468789  0.151865"
      ]
     },
     "execution_count": 9,
     "metadata": {},
     "output_type": "execute_result"
    }
   ],
   "source": [
    "###\n",
    "### YOUR CODE HERE\n",
    "###\n",
    "eth_prop = eth_count.apply(lambda x: x/x.sum())\n",
    "\n",
    "eth_prop\n"
   ]
  },
  {
   "cell_type": "markdown",
   "metadata": {},
   "source": [
    "8a) Creat a barplot from eth_prop consisting of 3 groups, 'black', 'hispanic' and 'white'. Each group should have 3 different colored bars giving the proportion that group forms of total stops, population and past arrests. $\\ $ (3pts)\n",
    "\n",
    "8b) Creat a barplot from eth_prop consisting of 3 groups, 'stops', 'popl' and 'past'. Each group should have 3 different colored bars giving the proportion of blacks, hispanics and whites for that group (this is just a reorganization of the previous barplot).  $\\ $ (3pts)"
   ]
  },
  {
   "cell_type": "code",
   "execution_count": 10,
   "metadata": {},
   "outputs": [
    {
     "data": {
      "image/png": "[encoded data removed]",
      "text/plain": [
       "<Figure size 432x288 with 1 Axes>"
      ]
     },
     "metadata": {
      "needs_background": "light"
     },
     "output_type": "display_data"
    }
   ],
   "source": [
    "###\n",
    "### YOUR CODE HERE\n",
    "###\n",
    "\n",
    "#ax = eth_prop.plot(y=['stops','popl','past'] ,kind='bar')\n",
    "ax = eth_prop.plot(kind='bar')\n"
   ]
  },
  {
   "cell_type": "code",
   "execution_count": 11,
   "metadata": {},
   "outputs": [
    {
     "data": {
      "image/png": "[encoded data removed]",
      "text/plain": [
       "<Figure size 432x288 with 1 Axes>"
      ]
     },
     "metadata": {
      "needs_background": "light"
     },
     "output_type": "display_data"
    }
   ],
   "source": [
    "###\n",
    "### YOUR CODE HERE\n",
    "###\n",
    "\n",
    "ax = eth_prop.T.plot(kind='bar')\n"
   ]
  },
  {
   "cell_type": "markdown",
   "metadata": {},
   "source": [
    "Looking at the plots above, an opponent of stop-and-frisk would claim the the number of times a black or hispanic person was stopped was disproportionate to their population size. A supporter of the policy would argue that the stops are proportionate with past arrests (or crime-rate). To better understand this, we need to simultaneously understand the effects of both population and crime rate."
   ]
  },
  {
   "cell_type": "markdown",
   "metadata": {},
   "source": [
    "9) Fit a linear model with stops as output, and popl and past as input separately for each ethnic group. Report the parameters. It is difficult to compare slopes if each model has a different intercept, therefore we will force them to pass through the origin. Briefly summarize the results. (5pts)"
   ]
  },
  {
   "cell_type": "code",
   "execution_count": 12,
   "metadata": {},
   "outputs": [
    {
     "name": "stdout",
     "output_type": "stream",
     "text": [
      "-----black------\n",
      "popl    0.003365\n",
      "past    0.276941\n",
      "dtype: float64\n",
      "                                 OLS Regression Results                                \n",
      "=======================================================================================\n",
      "Dep. Variable:                  stops   R-squared (uncentered):                   0.834\n",
      "Model:                            OLS   Adj. R-squared (uncentered):              0.829\n",
      "Method:                 Least Squares   F-statistic:                              182.8\n",
      "Date:                Sat, 22 Feb 2020   Prob (F-statistic):                    3.76e-29\n",
      "Time:                        13:53:10   Log-Likelihood:                         -570.18\n",
      "No. Observations:                  75   AIC:                                      1144.\n",
      "Df Residuals:                      73   BIC:                                      1149.\n",
      "Df Model:                           2                                                  \n",
      "Covariance Type:            nonrobust                                                  \n",
      "==============================================================================\n",
      "                 coef    std err          t      P>|t|      [0.025      0.975]\n",
      "------------------------------------------------------------------------------\n",
      "popl           0.0034      0.001      4.635      0.000       0.002       0.005\n",
      "past           0.2769      0.049      5.598      0.000       0.178       0.376\n",
      "==============================================================================\n",
      "Omnibus:                        4.040   Durbin-Watson:                   1.777\n",
      "Prob(Omnibus):                  0.133   Jarque-Bera (JB):                3.869\n",
      "Skew:                          -0.250   Prob(JB):                        0.145\n",
      "Kurtosis:                       3.994   Cond. No.                         132.\n",
      "==============================================================================\n",
      "\n",
      "Warnings:\n",
      "[1] Standard Errors assume that the covariance matrix of the errors is correctly specified.\n",
      "-----hispanic------\n",
      "popl    0.004693\n",
      "past    0.105169\n",
      "dtype: float64\n",
      "                                 OLS Regression Results                                \n",
      "=======================================================================================\n",
      "Dep. Variable:                  stops   R-squared (uncentered):                   0.812\n",
      "Model:                            OLS   Adj. R-squared (uncentered):              0.807\n",
      "Method:                 Least Squares   F-statistic:                              157.3\n",
      "Date:                Sat, 22 Feb 2020   Prob (F-statistic):                    3.43e-27\n",
      "Time:                        13:53:10   Log-Likelihood:                         -544.72\n",
      "No. Observations:                  75   AIC:                                      1093.\n",
      "Df Residuals:                      73   BIC:                                      1098.\n",
      "Df Model:                           2                                                  \n",
      "Covariance Type:            nonrobust                                                  \n",
      "==============================================================================\n",
      "                 coef    std err          t      P>|t|      [0.025      0.975]\n",
      "------------------------------------------------------------------------------\n",
      "popl           0.0047      0.001      5.546      0.000       0.003       0.006\n",
      "past           0.1052      0.075      1.411      0.163      -0.043       0.254\n",
      "==============================================================================\n",
      "Omnibus:                       12.208   Durbin-Watson:                   1.730\n",
      "Prob(Omnibus):                  0.002   Jarque-Bera (JB):               34.009\n",
      "Skew:                          -0.274   Prob(JB):                     4.12e-08\n",
      "Kurtosis:                       6.253   Cond. No.                         228.\n",
      "==============================================================================\n",
      "\n",
      "Warnings:\n",
      "[1] Standard Errors assume that the covariance matrix of the errors is correctly specified.\n",
      "-----white------\n",
      "popl    0.000950\n",
      "past    0.137792\n",
      "dtype: float64\n",
      "                                 OLS Regression Results                                \n",
      "=======================================================================================\n",
      "Dep. Variable:                  stops   R-squared (uncentered):                   0.811\n",
      "Model:                            OLS   Adj. R-squared (uncentered):              0.806\n",
      "Method:                 Least Squares   F-statistic:                              156.7\n",
      "Date:                Sat, 22 Feb 2020   Prob (F-statistic):                    3.87e-27\n",
      "Time:                        13:53:10   Log-Likelihood:                         -477.34\n",
      "No. Observations:                  75   AIC:                                      958.7\n",
      "Df Residuals:                      73   BIC:                                      963.3\n",
      "Df Model:                           2                                                  \n",
      "Covariance Type:            nonrobust                                                  \n",
      "==============================================================================\n",
      "                 coef    std err          t      P>|t|      [0.025      0.975]\n",
      "------------------------------------------------------------------------------\n",
      "popl           0.0010      0.000      9.283      0.000       0.001       0.001\n",
      "past           0.1378      0.039      3.536      0.001       0.060       0.215\n",
      "==============================================================================\n",
      "Omnibus:                       13.106   Durbin-Watson:                   1.667\n",
      "Prob(Omnibus):                  0.001   Jarque-Bera (JB):               44.022\n",
      "Skew:                          -0.189   Prob(JB):                     2.76e-10\n",
      "Kurtosis:                       6.734   Cond. No.                         556.\n",
      "==============================================================================\n",
      "\n",
      "Warnings:\n",
      "[1] Standard Errors assume that the covariance matrix of the errors is correctly specified.\n"
     ]
    }
   ],
   "source": [
    "###\n",
    "### YOUR CODE HERE\n",
    "###\n",
    "\n",
    "mod_b = smf.ols(formula = 'stops~popl+past-1', data=frisk[frisk['eth']==1])\n",
    "rslt_b = mod_b.fit()\n",
    "print(\"-----black------\")\n",
    "print(rslt_b.params)\n",
    "print(rslt_b.summary())\n",
    "\n",
    "mod_h = smf.ols(formula = 'stops~popl+past-1', data=frisk[frisk['eth']==2])\n",
    "rslt_h = mod_h.fit()\n",
    "\n",
    "print(\"-----hispanic------\")\n",
    "print(rslt_h.params)\n",
    "print(rslt_h.summary())\n",
    "\n",
    "mod_w = smf.ols(formula = 'stops~popl+past-1', data=frisk[frisk['eth']==3])\n",
    "rslt_w = mod_w.fit()\n",
    "print(\"-----white------\")\n",
    "print(rslt_w.params)\n",
    "print(rslt_w.summary())\n",
    "\n"
   ]
  },
  {
   "cell_type": "markdown",
   "metadata": {},
   "source": [
    "A. 9) The result of black and hispanic are similar but white."
   ]
  },
  {
   "cell_type": "markdown",
   "metadata": {},
   "source": [
    "Instead of three models on three datasets (for each group) it is more informative to fit a single model on a single dataset that also includes group information."
   ]
  },
  {
   "cell_type": "markdown",
   "metadata": {},
   "source": [
    "10) Towards this, first add 3 columns to $\\mathtt{frisk}$, 'black', 'hispanic' and 'white'. Elements of these should be 0 unless the row belongs to the corresponding column, in which case it should be 1 (e.g. if eth = 1, these columns have values (1,0,0) respectively). This is a one-hot encoding of the column $\\mathtt{eth}$. (3pts)"
   ]
  },
  {
   "cell_type": "code",
   "execution_count": 13,
   "metadata": {},
   "outputs": [
    {
     "data": {
      "text/html": [
       "<div>\n",
       "<style scoped>\n",
       "    .dataframe tbody tr th:only-of-type {\n",
       "        vertical-align: middle;\n",
       "    }\n",
       "\n",
       "    .dataframe tbody tr th {\n",
       "        vertical-align: top;\n",
       "    }\n",
       "\n",
       "    .dataframe thead th {\n",
       "        text-align: right;\n",
       "    }\n",
       "</style>\n",
       "<table border=\"1\" class=\"dataframe\">\n",
       "  <thead>\n",
       "    <tr style=\"text-align: right;\">\n",
       "      <th></th>\n",
       "      <th>precinct</th>\n",
       "      <th>eth</th>\n",
       "      <th>popl</th>\n",
       "      <th>stops</th>\n",
       "      <th>past</th>\n",
       "      <th>black</th>\n",
       "      <th>hispanic</th>\n",
       "      <th>white</th>\n",
       "    </tr>\n",
       "  </thead>\n",
       "  <tbody>\n",
       "    <tr>\n",
       "      <td>0</td>\n",
       "      <td>1</td>\n",
       "      <td>1</td>\n",
       "      <td>6880</td>\n",
       "      <td>202</td>\n",
       "      <td>980</td>\n",
       "      <td>1</td>\n",
       "      <td>0</td>\n",
       "      <td>0</td>\n",
       "    </tr>\n",
       "    <tr>\n",
       "      <td>1</td>\n",
       "      <td>1</td>\n",
       "      <td>2</td>\n",
       "      <td>5472</td>\n",
       "      <td>102</td>\n",
       "      <td>295</td>\n",
       "      <td>0</td>\n",
       "      <td>1</td>\n",
       "      <td>0</td>\n",
       "    </tr>\n",
       "    <tr>\n",
       "      <td>2</td>\n",
       "      <td>1</td>\n",
       "      <td>3</td>\n",
       "      <td>95416</td>\n",
       "      <td>81</td>\n",
       "      <td>381</td>\n",
       "      <td>0</td>\n",
       "      <td>0</td>\n",
       "      <td>1</td>\n",
       "    </tr>\n",
       "    <tr>\n",
       "      <td>3</td>\n",
       "      <td>2</td>\n",
       "      <td>1</td>\n",
       "      <td>10384</td>\n",
       "      <td>132</td>\n",
       "      <td>753</td>\n",
       "      <td>1</td>\n",
       "      <td>0</td>\n",
       "      <td>0</td>\n",
       "    </tr>\n",
       "    <tr>\n",
       "      <td>4</td>\n",
       "      <td>2</td>\n",
       "      <td>2</td>\n",
       "      <td>27376</td>\n",
       "      <td>144</td>\n",
       "      <td>557</td>\n",
       "      <td>0</td>\n",
       "      <td>1</td>\n",
       "      <td>0</td>\n",
       "    </tr>\n",
       "    <tr>\n",
       "      <td>...</td>\n",
       "      <td>...</td>\n",
       "      <td>...</td>\n",
       "      <td>...</td>\n",
       "      <td>...</td>\n",
       "      <td>...</td>\n",
       "      <td>...</td>\n",
       "      <td>...</td>\n",
       "      <td>...</td>\n",
       "    </tr>\n",
       "    <tr>\n",
       "      <td>220</td>\n",
       "      <td>74</td>\n",
       "      <td>2</td>\n",
       "      <td>37784</td>\n",
       "      <td>234</td>\n",
       "      <td>282</td>\n",
       "      <td>0</td>\n",
       "      <td>1</td>\n",
       "      <td>0</td>\n",
       "    </tr>\n",
       "    <tr>\n",
       "      <td>221</td>\n",
       "      <td>74</td>\n",
       "      <td>3</td>\n",
       "      <td>605464</td>\n",
       "      <td>896</td>\n",
       "      <td>1493</td>\n",
       "      <td>0</td>\n",
       "      <td>0</td>\n",
       "      <td>1</td>\n",
       "    </tr>\n",
       "    <tr>\n",
       "      <td>222</td>\n",
       "      <td>75</td>\n",
       "      <td>1</td>\n",
       "      <td>4112</td>\n",
       "      <td>7</td>\n",
       "      <td>16</td>\n",
       "      <td>1</td>\n",
       "      <td>0</td>\n",
       "      <td>0</td>\n",
       "    </tr>\n",
       "    <tr>\n",
       "      <td>223</td>\n",
       "      <td>75</td>\n",
       "      <td>2</td>\n",
       "      <td>12932</td>\n",
       "      <td>20</td>\n",
       "      <td>44</td>\n",
       "      <td>0</td>\n",
       "      <td>1</td>\n",
       "      <td>0</td>\n",
       "    </tr>\n",
       "    <tr>\n",
       "      <td>224</td>\n",
       "      <td>75</td>\n",
       "      <td>3</td>\n",
       "      <td>246768</td>\n",
       "      <td>295</td>\n",
       "      <td>312</td>\n",
       "      <td>0</td>\n",
       "      <td>0</td>\n",
       "      <td>1</td>\n",
       "    </tr>\n",
       "  </tbody>\n",
       "</table>\n",
       "<p>225 rows × 8 columns</p>\n",
       "</div>"
      ],
      "text/plain": [
       "     precinct  eth    popl  stops  past  black  hispanic  white\n",
       "0           1    1    6880    202   980      1         0      0\n",
       "1           1    2    5472    102   295      0         1      0\n",
       "2           1    3   95416     81   381      0         0      1\n",
       "3           2    1   10384    132   753      1         0      0\n",
       "4           2    2   27376    144   557      0         1      0\n",
       "..        ...  ...     ...    ...   ...    ...       ...    ...\n",
       "220        74    2   37784    234   282      0         1      0\n",
       "221        74    3  605464    896  1493      0         0      1\n",
       "222        75    1    4112      7    16      1         0      0\n",
       "223        75    2   12932     20    44      0         1      0\n",
       "224        75    3  246768    295   312      0         0      1\n",
       "\n",
       "[225 rows x 8 columns]"
      ]
     },
     "execution_count": 13,
     "metadata": {},
     "output_type": "execute_result"
    }
   ],
   "source": [
    "###\n",
    "### YOUR CODE HERE\n",
    "###\n",
    "\n",
    "frisk['black'] = frisk['eth'].apply(lambda x: 1 if x == 1 else 0)\n",
    "frisk['hispanic'] = frisk['eth'].apply(lambda x: 1 if x == 2 else 0)\n",
    "frisk['white'] = frisk['eth'].apply(lambda x: 1 if x == 3 else 0)\n",
    "\n",
    "frisk\n"
   ]
  },
  {
   "cell_type": "markdown",
   "metadata": {},
   "source": [
    "11a) Fit a linear model with $\\mathtt{stops}$ as output, and $\\mathtt{popl, past, black}$ and $\\mathtt{hisp}$ as inputs. Report the parameters (including the intercept). (2pts)\n",
    "\n",
    "__Note__: For the _same_ population size and crime rate, the coefficient of black gives the change in the number of stops if that population were a black instead of white. Similarly for the coefficient of hispanic. The current dataset would have no evidence of police bias if these two coefficients were close to 0.\n",
    "\n",
    "11b) To decide if deviations from 0 are big, compare these with the mean/median precint population, and the mean/median number of stops. Report these median/mean values and briefly summarize your thoughts. $\\ $ (2pts)"
   ]
  },
  {
   "cell_type": "code",
   "execution_count": 14,
   "metadata": {},
   "outputs": [
    {
     "name": "stdout",
     "output_type": "stream",
     "text": [
      "Intercept   -156.289946\n",
      "popl           0.001510\n",
      "past           0.265046\n",
      "black        492.745874\n",
      "hispanic     347.103798\n",
      "dtype: float64\n",
      "                            OLS Regression Results                            \n",
      "==============================================================================\n",
      "Dep. Variable:                  stops   R-squared:                       0.669\n",
      "Model:                            OLS   Adj. R-squared:                  0.663\n",
      "Method:                 Least Squares   F-statistic:                     111.0\n",
      "Date:                Sat, 22 Feb 2020   Prob (F-statistic):           1.27e-51\n",
      "Time:                        13:53:10   Log-Likelihood:                -1638.9\n",
      "No. Observations:                 225   AIC:                             3288.\n",
      "Df Residuals:                     220   BIC:                             3305.\n",
      "Df Model:                           4                                         \n",
      "Covariance Type:            nonrobust                                         \n",
      "==============================================================================\n",
      "                 coef    std err          t      P>|t|      [0.025      0.975]\n",
      "------------------------------------------------------------------------------\n",
      "Intercept   -156.2899     53.056     -2.946      0.004    -260.852     -51.728\n",
      "popl           0.0015      0.000      6.581      0.000       0.001       0.002\n",
      "past           0.2650      0.027      9.683      0.000       0.211       0.319\n",
      "black        492.7459     72.789      6.769      0.000     349.292     636.200\n",
      "hispanic     347.1038     64.653      5.369      0.000     219.686     474.522\n",
      "==============================================================================\n",
      "Omnibus:                       31.606   Durbin-Watson:                   1.593\n",
      "Prob(Omnibus):                  0.000   Jarque-Bera (JB):               82.466\n",
      "Skew:                           0.603   Prob(JB):                     1.24e-18\n",
      "Kurtosis:                       5.709   Cond. No.                     7.21e+05\n",
      "==============================================================================\n",
      "\n",
      "Warnings:\n",
      "[1] Standard Errors assume that the covariance matrix of the errors is correctly specified.\n",
      "[2] The condition number is large, 7.21e+05. This might indicate that there are\n",
      "strong multicollinearity or other numerical problems.\n"
     ]
    },
    {
     "data": {
      "text/html": [
       "<div>\n",
       "<style scoped>\n",
       "    .dataframe tbody tr th:only-of-type {\n",
       "        vertical-align: middle;\n",
       "    }\n",
       "\n",
       "    .dataframe tbody tr th {\n",
       "        vertical-align: top;\n",
       "    }\n",
       "\n",
       "    .dataframe thead th {\n",
       "        text-align: right;\n",
       "    }\n",
       "</style>\n",
       "<table border=\"1\" class=\"dataframe\">\n",
       "  <thead>\n",
       "    <tr style=\"text-align: right;\">\n",
       "      <th></th>\n",
       "      <th>popl</th>\n",
       "      <th>stops</th>\n",
       "    </tr>\n",
       "  </thead>\n",
       "  <tbody>\n",
       "    <tr>\n",
       "      <td>mean</td>\n",
       "      <td>120418.097778</td>\n",
       "      <td>584.088889</td>\n",
       "    </tr>\n",
       "    <tr>\n",
       "      <td>median</td>\n",
       "      <td>72016.000000</td>\n",
       "      <td>385.000000</td>\n",
       "    </tr>\n",
       "  </tbody>\n",
       "</table>\n",
       "</div>"
      ],
      "text/plain": [
       "                 popl       stops\n",
       "mean    120418.097778  584.088889\n",
       "median   72016.000000  385.000000"
      ]
     },
     "execution_count": 14,
     "metadata": {},
     "output_type": "execute_result"
    }
   ],
   "source": [
    "###\n",
    "### YOUR CODE HERE\n",
    "###\n",
    "\n",
    "mod = smf.ols(formula = 'stops~popl+past+black+hispanic', data=frisk)\n",
    "rslt = mod.fit()\n",
    "print(rslt.params)\n",
    "print(rslt.summary())\n",
    "\n",
    "\n",
    "\n",
    "temp = frisk.agg({'popl':['mean','median'],'stops':['mean','median']})\n",
    "temp"
   ]
  },
  {
   "cell_type": "markdown",
   "metadata": {},
   "source": [
    "As a last (and simpler) model, we note that with count data (e.g. population size, number of stops etc), it is often more convenient to work with log-counts rather than counts. \n",
    "\n",
    "12a) Add 3 new columns to frisk, $\\mathtt{logstops, logpast}$ and $\\mathtt{logpopl}$ obtained by taking logatithms of the corresponding columns. How many zeroes are present in columns $\\mathtt{logstops, logpast}$ and $\\mathtt{logpopl}$? To avoid taking logs of 0, you can add a small number (e.g. 0.01) to these columns before taking log. $\\ $ (3pts)\n",
    "\n",
    "12b) Plot a scatter plot of log-population of precinct (x-axis) vs log-number of stops in that precinct (y-axis). \n",
    "Fit a straight line with $\\mathtt{logstops}$ as output and $(\\mathtt{logpopl, logpast})$ as inputs. Report its parameters including the intercept.  $\\ $ (4pts)\n",
    "\n",
    "__Note:__ the coefficient in this log-log model has a slightly more complicated interpretation, giving the percent change in output if the input changes by 1 percent. It economics, this coefficient is called _elasticity_."
   ]
  },
  {
   "cell_type": "code",
   "execution_count": 15,
   "metadata": {},
   "outputs": [
    {
     "name": "stdout",
     "output_type": "stream",
     "text": [
      "number of zeroes :\n",
      " logstops    0\n",
      "logpast     0\n",
      "logpopl     0\n",
      "dtype: int64\n",
      "Intercept   -1.650465\n",
      "logpopl      0.181308\n",
      "logpast      0.841865\n",
      "dtype: float64\n",
      "                            OLS Regression Results                            \n",
      "==============================================================================\n",
      "Dep. Variable:               logstops   R-squared:                       0.697\n",
      "Model:                            OLS   Adj. R-squared:                  0.694\n",
      "Method:                 Least Squares   F-statistic:                     255.1\n",
      "Date:                Sat, 22 Feb 2020   Prob (F-statistic):           2.95e-58\n",
      "Time:                        13:53:10   Log-Likelihood:                -240.37\n",
      "No. Observations:                 225   AIC:                             486.7\n",
      "Df Residuals:                     222   BIC:                             497.0\n",
      "Df Model:                           2                                         \n",
      "Covariance Type:            nonrobust                                         \n",
      "==============================================================================\n",
      "                 coef    std err          t      P>|t|      [0.025      0.975]\n",
      "------------------------------------------------------------------------------\n",
      "Intercept     -1.6505      0.402     -4.101      0.000      -2.444      -0.857\n",
      "logpopl        0.1813      0.042      4.319      0.000       0.099       0.264\n",
      "logpast        0.8419      0.051     16.437      0.000       0.741       0.943\n",
      "==============================================================================\n",
      "Omnibus:                       12.391   Durbin-Watson:                   1.425\n",
      "Prob(Omnibus):                  0.002   Jarque-Bera (JB):               12.819\n",
      "Skew:                          -0.552   Prob(JB):                      0.00165\n",
      "Kurtosis:                       3.387   Cond. No.                         110.\n",
      "==============================================================================\n",
      "\n",
      "Warnings:\n",
      "[1] Standard Errors assume that the covariance matrix of the errors is correctly specified.\n"
     ]
    },
    {
     "data": {
      "image/png": "[encoded data removed]",
      "text/plain": [
       "<Figure size 432x288 with 1 Axes>"
      ]
     },
     "metadata": {
      "needs_background": "light"
     },
     "output_type": "display_data"
    }
   ],
   "source": [
    "###\n",
    "### YOUR CODE HERE\n",
    "###\n",
    "frisk['logstops'] = frisk['stops'].apply(lambda x: np.log(x))\n",
    "frisk['logpast'] = frisk['past'].apply(lambda x: np.log(x))\n",
    "frisk['logpopl'] = frisk['popl'].apply(lambda x: np.log(x))\n",
    "\n",
    "print(\"number of zeroes :\\n\",frisk[['logstops', 'logpast', 'logpopl']].eq(0).sum())\n",
    "\n",
    "mod = smf.ols(formula = 'logstops~logpopl+logpast', data=frisk) # OLS: ordinary least squares\n",
    "rslt = mod.fit()\n",
    "\n",
    "ax = frisk.plot(x='logpopl', y='logstops', kind='scatter')\n",
    "# plot regression line\n",
    "xmin, xmax = frisk.logpopl.min(),frisk.logpopl.max()\n",
    "x = np.arange(xmin, xmax)\n",
    "ax.plot(x,rslt.params[0]+ x*rslt.params[1], linewidth=2, color='red')\n",
    "ax.set_xlim([xmin,xmax])\n",
    "print(rslt.params)\n",
    "print(rslt.summary())\n",
    "\n"
   ]
  },
  {
   "cell_type": "markdown",
   "metadata": {},
   "source": [
    "13) We have 4 interesting models for perdicting $\\mathtt{stops}$, with inputs $\\mathtt{(popl), (past), (popl,past)}$ and $\\mathtt{(popl,past,black,hist)}$. Our last model predicts log-stops from log-popl and log-past. We want to decide which one is most appropriate. We do this using cross-validation (see the slides) $\\ $ (10 pts)\n",
    "+ Recall we have 75 precincts. For each 'fold' of cross-validation, we will hold out 5 precincts, train the models on the rest, and then test on 5 held-out precincts (15 datapoints). Thus there will be a total of 75/5 = 15 folds.\n",
    "+ For each fold and for each model, calculate the sum-squared-error between the predicted number of stops for the test data, and the true number of stops. For each model, store the parameters and sum-squared errors as a dataframe with 15 rows. Call these dataframes crossval1, crossval2,... crossval5.\n",
    "\n",
    "__Note__: \n",
    "+ _the last model predicts logstops, not stops. To avoid comparing apples and oranges, convert its output to stops before computing sum-squared-error._\n",
    "\n",
    "+ You can use a for loop over the cross-validation folds."
   ]
  },
  {
   "cell_type": "code",
   "execution_count": 16,
   "metadata": {},
   "outputs": [],
   "source": [
    "###\n",
    "### YOUR CODE HERE\n",
    "###\n",
    "\n",
    "def test(frisk,inputs,log):\n",
    "    df = frisk.copy()\n",
    "    res = pd.DataFrame()\n",
    "    k = 15\n",
    "    sses = []\n",
    "    if(log):\n",
    "        df['stops'] = df['logstops']\n",
    "    dict1 = dict()\n",
    "    for i in range(k):\n",
    "        L,R = i*5*3,(i+1)*5*3\n",
    "        test_set = df[L:R]\n",
    "        train_set = pd.concat([df[0:L],df[R:]])\n",
    "        mod = smf.ols(formula = inputs, data=train_set)\n",
    "        rslt = mod.fit()\n",
    "        params = rslt.params\n",
    "        \n",
    "        for key in params.keys():\n",
    "                if key in dict1:\n",
    "                    dict1[key].append(params[key])\n",
    "                else:\n",
    "                    dict1[key] = []\n",
    "                    dict1[key].append(params[key])\n",
    "        SSE = 0\n",
    "        for index, row in test_set.iterrows():  \n",
    "            expected = 0\n",
    "            for key in params.keys():\n",
    "                if key == 'Intercept':\n",
    "                    expected = expected + params[key]\n",
    "                else: \n",
    "                    expected = expected + (params[key] * row[key])\n",
    "            SSE = SSE + (expected-row['stops']) ** 2\n",
    "        sses.append(SSE)\n",
    "    for key in dict1:\n",
    "        res[key] = dict1[key]\n",
    "    res['SSE'] = sses\n",
    "    return res\n",
    "    \n",
    "crossval1 = test(frisk,'stops~popl',False)\n",
    "crossval2 = test(frisk,'stops~past',False)\n",
    "crossval3 = test(frisk,'stops~popl+past',False)\n",
    "crossval4 = test(frisk,'stops~popl+past+black+hispanic',False)\n",
    "crossval5 = test(frisk,'logstops~logpopl+logpast',True)\n",
    "\n",
    "# print(crossval1)\n",
    "# print(crossval2)\n",
    "# print(crossval3)\n",
    "# print(crossval4)\n",
    "# print(crossval5)"
   ]
  },
  {
   "cell_type": "markdown",
   "metadata": {},
   "source": [
    "14a) Create a plot consisting of 5 boxplots, giving the test sum-squared errors for the 5 models across all the folds. What do you think the ordering of models is in terms of predictive performance, explaining clearly what criteria you used to order them.  $\\ $ (10 pts)\n",
    "\n",
    "14b) Create a plot consisting of 2 boxplots, the coefficients of the parameters 'black' and 'hispanic' for the 4th model across all folds. Also summarize it using the describe method. Do you think the estimates vary a lot across different folds?  $\\ $ (10 pts)"
   ]
  },
  {
   "cell_type": "code",
   "execution_count": 17,
   "metadata": {},
   "outputs": [
    {
     "data": {
      "text/plain": [
       "<matplotlib.axes._subplots.AxesSubplot at 0x1a2c7bf510>"
      ]
     },
     "execution_count": 17,
     "metadata": {},
     "output_type": "execute_result"
    },
    {
     "data": {
      "image/png": "[encoded data removed]",
      "text/plain": [
       "<Figure size 432x288 with 1 Axes>"
      ]
     },
     "metadata": {
      "needs_background": "light"
     },
     "output_type": "display_data"
    }
   ],
   "source": [
    "###\n",
    "### YOUR CODE HERE\n",
    "###\n",
    "df = pd.DataFrame()\n",
    "df['cv1'] = crossval1['SSE']\n",
    "df['cv2'] = crossval2['SSE']\n",
    "df['cv3'] = crossval3['SSE']\n",
    "df['cv4'] = crossval4['SSE']\n",
    "df['cv5'] = crossval5['SSE']\n",
    "df.boxplot()"
   ]
  },
  {
   "cell_type": "markdown",
   "metadata": {},
   "source": [
    "A. 14a) The ordering of medels is in terms of predictive performance is cv5,cv4,cv3,cv2,cv1. My critieria to order them is the size of the boxes. As the box is smaller, the model is consistent which means better predictive performance."
   ]
  },
  {
   "cell_type": "code",
   "execution_count": 18,
   "metadata": {},
   "outputs": [
    {
     "data": {
      "text/html": [
       "<div>\n",
       "<style scoped>\n",
       "    .dataframe tbody tr th:only-of-type {\n",
       "        vertical-align: middle;\n",
       "    }\n",
       "\n",
       "    .dataframe tbody tr th {\n",
       "        vertical-align: top;\n",
       "    }\n",
       "\n",
       "    .dataframe thead th {\n",
       "        text-align: right;\n",
       "    }\n",
       "</style>\n",
       "<table border=\"1\" class=\"dataframe\">\n",
       "  <thead>\n",
       "    <tr style=\"text-align: right;\">\n",
       "      <th></th>\n",
       "      <th>black</th>\n",
       "      <th>hispanic</th>\n",
       "    </tr>\n",
       "  </thead>\n",
       "  <tbody>\n",
       "    <tr>\n",
       "      <td>count</td>\n",
       "      <td>15.000000</td>\n",
       "      <td>15.000000</td>\n",
       "    </tr>\n",
       "    <tr>\n",
       "      <td>mean</td>\n",
       "      <td>491.861998</td>\n",
       "      <td>346.578121</td>\n",
       "    </tr>\n",
       "    <tr>\n",
       "      <td>std</td>\n",
       "      <td>19.478170</td>\n",
       "      <td>16.489292</td>\n",
       "    </tr>\n",
       "    <tr>\n",
       "      <td>min</td>\n",
       "      <td>455.781902</td>\n",
       "      <td>318.326872</td>\n",
       "    </tr>\n",
       "    <tr>\n",
       "      <td>25%</td>\n",
       "      <td>482.218135</td>\n",
       "      <td>334.868262</td>\n",
       "    </tr>\n",
       "    <tr>\n",
       "      <td>50%</td>\n",
       "      <td>487.187266</td>\n",
       "      <td>341.238642</td>\n",
       "    </tr>\n",
       "    <tr>\n",
       "      <td>75%</td>\n",
       "      <td>507.122379</td>\n",
       "      <td>360.467200</td>\n",
       "    </tr>\n",
       "    <tr>\n",
       "      <td>max</td>\n",
       "      <td>525.430667</td>\n",
       "      <td>373.690442</td>\n",
       "    </tr>\n",
       "  </tbody>\n",
       "</table>\n",
       "</div>"
      ],
      "text/plain": [
       "            black    hispanic\n",
       "count   15.000000   15.000000\n",
       "mean   491.861998  346.578121\n",
       "std     19.478170   16.489292\n",
       "min    455.781902  318.326872\n",
       "25%    482.218135  334.868262\n",
       "50%    487.187266  341.238642\n",
       "75%    507.122379  360.467200\n",
       "max    525.430667  373.690442"
      ]
     },
     "execution_count": 18,
     "metadata": {},
     "output_type": "execute_result"
    },
    {
     "data": {
      "image/png": "[encoded data removed]",
      "text/plain": [
       "<Figure size 432x288 with 1 Axes>"
      ]
     },
     "metadata": {
      "needs_background": "light"
     },
     "output_type": "display_data"
    }
   ],
   "source": [
    "###\n",
    "### YOUR CODE HERE\n",
    "###\n",
    "\n",
    "crossval4[['black','hispanic']].boxplot()\n",
    "crossval4[['black','hispanic']].describe()"
   ]
  },
  {
   "cell_type": "markdown",
   "metadata": {},
   "source": [
    "A. 14b) I do not think the estimates vary a lot across different folds. Because the boxes of black and hispanic are not big and there is no outliers. "
   ]
  },
  {
   "cell_type": "markdown",
   "metadata": {},
   "source": [
    "__Conclusion__: A thorough assessment of the stop-and-frisk policy requires for sophisticated modeling (e.g. nonlinearities and interaction terms), more kinds of data (e.g. what proportion of stopped people were found to be innocent? Did the policy actually result in a reduction in crime? Is any reduction in crime worth the loss in civil liberties?). See e.g. [here](https://www.nyclu.org/en/stop-and-frisk-data). Nevertheless, it is widely agreed now that this was an unfair and harmful policy. If you are interested, [here](https://www.huffpost.com/entry/nypd-stop-and-frisks-15-shocking-facts_n_1513362) is an article from the left, and [here](https://www.nationalreview.com/2018/01/new-york-city-stop-and-frisk-crime-decline-conservatives-wrong/) is one from the right."
   ]
  }
 ],
 "metadata": {
  "kernelspec": {
   "display_name": "Python 3",
   "language": "python",
   "name": "python3"
  },
  "language_info": {
   "codemirror_mode": {
    "name": "ipython",
    "version": 3
   },
   "file_extension": ".py",
   "mimetype": "text/x-python",
   "name": "python",
   "nbconvert_exporter": "python",
   "pygments_lexer": "ipython3",
   "version": "3.7.4"
  }
 },
 "nbformat": 4,
 "nbformat_minor": 2
}
