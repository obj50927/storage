{
 "cells": [
  {
   "cell_type": "markdown",
   "metadata": {
    "deletable": false,
    "editable": false,
    "nbgrader": {
     "grade": false,
     "locked": true,
     "solution": false
    }
   },
   "source": [
    "# Lab 3: Data Manipulation\n",
    "\n",
    "\n",
    "_Please make sure you submit your lab before the deadline and work on your lab only during your lab time. It is against course policy to submit labs after the lab section time or to work on labs before the particular lab section time has begun (this can get you 0 points)._\n",
    "\n",
    "__Important__: you can only use the python packages numpy, math and pandas for this lab.\n",
    "\n",
    "__Important__: _for full credit, you should not use any loops (for, while etc) to solve these problems, rather you should use methods from pandas (otherwise you will lose 25% credit even if autograde gives you full points)._"
   ]
  },
  {
   "cell_type": "markdown",
   "metadata": {},
   "source": [
    "# Q1\n",
    "\n",
    "Write a function to read in data from the input .csv file, drop the columns 'Prefix' and 'Category', and count \n",
    "1. the number of remaining elements, and \n",
    "2. the number of elements greater than 'thresh'."
   ]
  },
  {
   "cell_type": "code",
   "execution_count": 20,
   "metadata": {},
   "outputs": [
    {
     "name": "stdout",
     "output_type": "stream",
     "text": [
      "80\n",
      "(80, 77)\n",
      "80\n",
      "(80, 61)\n"
     ]
    }
   ],
   "source": [
    "# countThresh(filename,thresh) reads the contents of filename as a dataframe, drops the columns Prefix and Category,\n",
    "# and returns a tuple (number of remaining elements, number of elements greater than thresh).\n",
    "#\n",
    " \n",
    "import pandas as pd\n",
    "\n",
    "def countThresh(filename,thresh):\n",
    "    \n",
    "    ###\n",
    "    ### YOUR CODE HERE\n",
    "    ###\n",
    "    df = pd.read_csv(filename)\n",
    "    df = df.drop(['Prefix','Category'], axis = 1)\n",
    "    L = sum(df.count())\n",
    "    print(sum(df.count()))\n",
    "    R = sum(df[df > thresh].count())\n",
    "    return (L,R)\n",
    "\n",
    "# Example output for the file \"class_grades_demo.csv\": \n",
    "# \n",
    "# output: (80,77)\n",
    "print(countThresh('class_grades_demo.csv',30))\n",
    "\n",
    "# output: (80,61)\n",
    "print(countThresh('class_grades_demo.csv',60))"
   ]
  },
  {
   "cell_type": "code",
   "execution_count": null,
   "metadata": {
    "collapsed": true,
    "deletable": false,
    "editable": false,
    "nbgrader": {
     "grade": true,
     "grade_id": "Q1_1",
     "locked": true,
     "points": "1",
     "solution": false
    }
   },
   "outputs": [],
   "source": [
    "###\n",
    "### AUTOGRADER TEST - DO NOT REMOVE\n",
    "###\n"
   ]
  },
  {
   "cell_type": "code",
   "execution_count": null,
   "metadata": {
    "collapsed": true,
    "deletable": false,
    "editable": false,
    "nbgrader": {
     "grade": true,
     "grade_id": "Q1_2",
     "locked": true,
     "points": "1",
     "solution": false
    }
   },
   "outputs": [],
   "source": [
    "###\n",
    "### AUTOGRADER TEST - DO NOT REMOVE\n",
    "###\n"
   ]
  },
  {
   "cell_type": "markdown",
   "metadata": {
    "deletable": false,
    "editable": false,
    "nbgrader": {
     "grade": false,
     "locked": true,
     "solution": false
    }
   },
   "source": [
    "# Q2 \n",
    "Read in data from the input .csv file and transform the column named 'Final' as follows:\n",
    "1. Find the median of the column. \n",
    "2. Find the max value of the column. \n",
    "2. From each entry in the column, subtract the median (obtained in step 1), and divide the resulting value by the max value (obtained in step 2). Return the transformed values as a vector."
   ]
  },
  {
   "cell_type": "code",
   "execution_count": 40,
   "metadata": {},
   "outputs": [
    {
     "name": "stdout",
     "output_type": "stream",
     "text": [
      "[-0.1400455432661028, -0.07379093472131859, -0.13104532639340707, 0.007536326176534378, -0.25151810887009324, 0.15815441335935806, 0.004500108436347855, 0.31777271741487745, -0.293699848189113, 0.293699848189113, -0.1039362394274561, -0.1490457601387985, -0.004500108436347855, 0.3057362828019952, 0.0596942094990241, 0.034645413142485364]\n"
     ]
    }
   ],
   "source": [
    "# transformColumn(filename) transforms the 'Final' column of the data as described above, and returns a list of the\n",
    "# transformed values. The order of the transformed values should be in the order of the rows given in the file.\n",
    "\n",
    "def transformColumn(filename):\n",
    "    \n",
    "    ###\n",
    "    ### YOUR CODE HERE\n",
    "    ###\n",
    "    df = pd.read_csv(filename)\n",
    "    f_med = df['Final'].median()\n",
    "    f_max = df['Final'].max()\n",
    "    res = (df['Final'] - f_med)/f_max \n",
    "    \n",
    "    return res.tolist()\n",
    "\n",
    "# Example output for the file \"class_grades_demo.csv\": \n",
    "# \n",
    "# output: [-0.140045543266, -0.0737909347213, -0.131045326393, 0.00753632617653, -0.25151810887, 0.158154413359, \n",
    "# 0.00450010843635, 0.317772717415, -0.293699848189, 0.293699848189, -0.103936239427, -0.149045760139, \n",
    "# -0.00450010843635, 0.305736282802, 0.059694209499, 0.0346454131425]\n",
    "print(transformColumn('class_grades_demo.csv'))"
   ]
  },
  {
   "cell_type": "code",
   "execution_count": null,
   "metadata": {
    "collapsed": true,
    "deletable": false,
    "editable": false,
    "nbgrader": {
     "grade": true,
     "grade_id": "Q2_1",
     "locked": true,
     "points": "1",
     "solution": false
    }
   },
   "outputs": [],
   "source": [
    "###\n",
    "### AUTOGRADER TEST - DO NOT REMOVE\n",
    "###\n"
   ]
  },
  {
   "cell_type": "code",
   "execution_count": null,
   "metadata": {
    "collapsed": true,
    "deletable": false,
    "editable": false,
    "nbgrader": {
     "grade": true,
     "grade_id": "Q2_2",
     "locked": true,
     "points": "2",
     "solution": false
    }
   },
   "outputs": [],
   "source": [
    "###\n",
    "### AUTOGRADER TEST - DO NOT REMOVE\n",
    "###\n"
   ]
  },
  {
   "cell_type": "markdown",
   "metadata": {
    "deletable": false,
    "editable": false,
    "nbgrader": {
     "grade": false,
     "locked": true,
     "solution": false
    }
   },
   "source": [
    "# Q3, part 1\n",
    "Write a function <code>rubric</code> that as input 'value' and returns a 'grade' as follows:\n",
    "\n",
    "If value >= 90, grade = 'A';\n",
    "If value >= 85, grade = 'B';\n",
    "If value >= 70, grade = 'C';\n",
    "Otherwise, grade = 'D'."
   ]
  },
  {
   "cell_type": "code",
   "execution_count": 41,
   "metadata": {
    "scrolled": true
   },
   "outputs": [
    {
     "name": "stdout",
     "output_type": "stream",
     "text": [
      "A\n",
      "C\n"
     ]
    }
   ],
   "source": [
    "# rubric(filename) returns a letter grade based on the above criteria\n",
    "\n",
    "def rubric(value):\n",
    "    \n",
    "    ###\n",
    "    ### YOUR CODE HERE\n",
    "    ###\n",
    "    if value >= 90:\n",
    "        return 'A'\n",
    "    elif value >= 85:\n",
    "        return 'B'\n",
    "    elif value >= 70:\n",
    "        return 'C'\n",
    "    else:\n",
    "        return 'D'\n",
    "    \n",
    "# Example output\n",
    "# output: 'A'\n",
    "print(rubric(95))\n",
    "# output: 'C'\n",
    "print(rubric(80))"
   ]
  },
  {
   "cell_type": "code",
   "execution_count": null,
   "metadata": {
    "collapsed": true,
    "deletable": false,
    "editable": false,
    "nbgrader": {
     "grade": true,
     "grade_id": "Q3_1",
     "locked": true,
     "points": "1",
     "solution": false
    }
   },
   "outputs": [],
   "source": [
    "###\n",
    "### AUTOGRADER TEST - DO NOT REMOVE\n",
    "###\n"
   ]
  },
  {
   "cell_type": "markdown",
   "metadata": {
    "deletable": false,
    "editable": false,
    "nbgrader": {
     "grade": false,
     "locked": true,
     "solution": false
    }
   },
   "source": [
    "# Q3, part 2\n",
    "Read in data from the input .csv file and assign grades to students by applying rubric to the column 'Final': \n",
    "\n",
    "Output the results as a vector."
   ]
  },
  {
   "cell_type": "code",
   "execution_count": 48,
   "metadata": {
    "scrolled": true
   },
   "outputs": [
    {
     "name": "stdout",
     "output_type": "stream",
     "text": [
      "['D', 'D', 'D', 'D', 'D', 'C', 'D', 'A', 'D', 'A', 'D', 'D', 'D', 'A', 'D', 'D']\n"
     ]
    }
   ],
   "source": [
    "# assignGrade(filename, rubric) takes as input a filename and a rubric. It assigns grades to students based on the \n",
    "# rubric applied to their Final scores, and returns a list of the letter grades assigned. The order of the grades \n",
    "# should be in the order of the rows given in the file. \n",
    "\n",
    "def assignGrade(filename, rubric):\n",
    "    \n",
    "    ###\n",
    "    ### YOUR CODE HERE\n",
    "    ###\n",
    "    df = pd.read_csv(filename)\n",
    "    res = df['Final'].apply(rubric)\n",
    "    return res.tolist()\n",
    "    \n",
    "    \n",
    "# Example output\n",
    "# output: ['D', 'D', 'D', 'D', 'D', 'C', 'D', 'A', 'D', 'B', 'D', 'D', 'D', 'A', 'D', 'D']\n",
    "print(assignGrade('class_grades_demo.csv', rubric))"
   ]
  },
  {
   "cell_type": "code",
   "execution_count": null,
   "metadata": {
    "collapsed": true,
    "deletable": false,
    "editable": false,
    "nbgrader": {
     "grade": true,
     "grade_id": "Q3_2",
     "locked": true,
     "points": "2",
     "solution": false
    }
   },
   "outputs": [],
   "source": [
    "###\n",
    "### AUTOGRADER TEST - DO NOT REMOVE\n",
    "###\n"
   ]
  },
  {
   "cell_type": "markdown",
   "metadata": {
    "deletable": false,
    "editable": false,
    "nbgrader": {
     "grade": false,
     "locked": true,
     "solution": false
    }
   },
   "source": [
    "# Q4, part 1\n",
    "Read data from the input .csv file. Consider the \"final grade\" in the column Final. The column Category assigns each row (student) to a category (e.g. \"junior\", \"sophomore\" etc). Calculate the minmum, median and maximum final grade for each group, returning the result as a dataframe."
   ]
  },
  {
   "cell_type": "code",
   "execution_count": 96,
   "metadata": {},
   "outputs": [
    {
     "name": "stdout",
     "output_type": "stream",
     "text": [
      "           Final               \n",
      "             min  median    max\n",
      "Category                       \n",
      "freshman   35.83  53.055  77.50\n",
      "junior     39.72  64.720  92.22\n",
      "sophomore  49.17  63.055  91.11\n"
     ]
    }
   ],
   "source": [
    "# groupStatistics(filename) takes as input a csv file to read the data from, and returns \n",
    "# a dataframe with three columns giving the minimum, median and maximum value of Final for each \n",
    "# value of Category. In the example below, it gives minimum, median and maximum for \"Freshman\", \"Sophomore\" and\n",
    "# \"Senior\".\n",
    "# You code should not assume the possible values of Category. The order of rows is not important.\n",
    "\n",
    "\n",
    "def groupStatistics(filename):\n",
    "    \n",
    "    ###\n",
    "    ### YOUR CODE HERE\n",
    "    ###\n",
    "    df = pd.read_csv(filename)\n",
    "    res = df.groupby(['Category']).agg({'Final':['min','median','max']})\n",
    "    return res\n",
    "# For example,\n",
    "print(groupStatistics(\"./class_grades_demo.csv\"))\n",
    "\n",
    "# will produce output:\n",
    "\n",
    "#            Final               \n",
    "#              min  median    max\n",
    "# Category                       \n",
    "# freshman   35.83  53.055  77.50\n",
    "# sophomore  49.17  63.055  91.11\n",
    "# junior     39.72  64.720  92.22\n"
   ]
  },
  {
   "cell_type": "code",
   "execution_count": null,
   "metadata": {
    "collapsed": true,
    "deletable": false,
    "editable": false,
    "nbgrader": {
     "grade": true,
     "grade_id": "Q4_1a",
     "locked": true,
     "points": "1",
     "solution": false
    }
   },
   "outputs": [],
   "source": [
    "###\n",
    "### AUTOGRADER TEST - DO NOT REMOVE\n",
    "###\n"
   ]
  },
  {
   "cell_type": "code",
   "execution_count": null,
   "metadata": {
    "collapsed": true,
    "deletable": false,
    "editable": false,
    "nbgrader": {
     "grade": true,
     "grade_id": "Q4_1b",
     "locked": true,
     "points": "1",
     "solution": false
    }
   },
   "outputs": [],
   "source": [
    "###\n",
    "### AUTOGRADER TEST - DO NOT REMOVE\n",
    "###\n"
   ]
  },
  {
   "cell_type": "code",
   "execution_count": null,
   "metadata": {
    "collapsed": true,
    "deletable": false,
    "editable": false,
    "nbgrader": {
     "grade": true,
     "grade_id": "Q4_1c",
     "locked": true,
     "points": "1",
     "solution": false
    }
   },
   "outputs": [],
   "source": [
    "###\n",
    "### AUTOGRADER TEST - DO NOT REMOVE\n",
    "###\n"
   ]
  },
  {
   "cell_type": "markdown",
   "metadata": {
    "deletable": false,
    "editable": false,
    "nbgrader": {
     "grade": false,
     "locked": true,
     "solution": false
    }
   },
   "source": [
    "# Q4, part 2\n",
    "\n",
    "Do the same as the previous question, but now sort the rows of the dataframe in order of decreasing median grade."
   ]
  },
  {
   "cell_type": "code",
   "execution_count": 108,
   "metadata": {},
   "outputs": [
    {
     "name": "stdout",
     "output_type": "stream",
     "text": [
      "           Final               \n",
      "             min  median    max\n",
      "Category                       \n",
      "junior     39.72  64.720  92.22\n",
      "sophomore  49.17  63.055  91.11\n",
      "freshman   35.83  53.055  77.50\n"
     ]
    }
   ],
   "source": [
    "# groupStatistics_sort(filename) takes as input a csv file to read the data from, and returns \n",
    "# a dataframe with three columns giving the minimum, median and maximum value of Final for each \n",
    "# value of Category. In the example below, it gives minimum, median and maximum for \"Freshman\", \"Sophomore\" and\n",
    "# \"Senior\".\n",
    "# You code should not assume the possible values of Category. \n",
    "# The rows should be sorted in order of decreasing median grade.\n",
    "\n",
    "\n",
    "def groupStatistics_sort(filename):\n",
    "    \n",
    "    ###\n",
    "    ### YOUR CODE HERE\n",
    "    ###\n",
    "    df = pd.read_csv(filename)\n",
    "    res = df.groupby(['Category']).agg({'Final':['min','median','max']}).sort_values(('Final','median'), ascending=False)\n",
    "    return res\n",
    "# For example,\n",
    "print(groupStatistics_sort(\"./class_grades_demo.csv\"))\n",
    "\n",
    "# produces output:\n",
    "\n",
    "\n",
    "#           Final               \n",
    "#             min  median    max\n",
    "#Category                       \n",
    "#junior     39.72  64.720  92.22\n",
    "#sophomore  49.17  63.055  91.11\n",
    "#freshman   35.83  53.055  77.50"
   ]
  },
  {
   "cell_type": "code",
   "execution_count": null,
   "metadata": {
    "collapsed": true,
    "deletable": false,
    "editable": false,
    "nbgrader": {
     "grade": true,
     "grade_id": "Q4_2a",
     "locked": true,
     "points": "1",
     "solution": false
    }
   },
   "outputs": [],
   "source": [
    "###\n",
    "### AUTOGRADER TEST - DO NOT REMOVE\n",
    "###\n"
   ]
  },
  {
   "cell_type": "code",
   "execution_count": null,
   "metadata": {
    "collapsed": true,
    "deletable": false,
    "editable": false,
    "nbgrader": {
     "grade": true,
     "grade_id": "Q4_2b",
     "locked": true,
     "points": "1",
     "solution": false
    }
   },
   "outputs": [],
   "source": [
    "###\n",
    "### AUTOGRADER TEST - DO NOT REMOVE\n",
    "###\n"
   ]
  }
 ],
 "metadata": {
  "kernelspec": {
   "display_name": "Python 3",
   "language": "python",
   "name": "python3"
  },
  "language_info": {
   "codemirror_mode": {
    "name": "ipython",
    "version": 3
   },
   "file_extension": ".py",
   "mimetype": "text/x-python",
   "name": "python",
   "nbconvert_exporter": "python",
   "pygments_lexer": "ipython3",
   "version": "3.7.4"
  }
 },
 "nbformat": 4,
 "nbformat_minor": 2
}
