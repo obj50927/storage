{
 "cells": [
  {
   "cell_type": "markdown",
   "metadata": {
    "deletable": false,
    "editable": false,
    "nbgrader": {
     "grade": false,
     "locked": true,
     "solution": false
    }
   },
   "source": [
    "# Homework 4\n",
    "\n",
    "Enter your name in the cell below. If you are using any late submission days, please mention that here too."
   ]
  },
  {
   "cell_type": "markdown",
   "metadata": {},
   "source": [
    "### Name:    --- Byoungjin Oh"
   ]
  },
  {
   "cell_type": "markdown",
   "metadata": {
    "deletable": false,
    "editable": false,
    "nbgrader": {
     "grade": false,
     "locked": true,
     "solution": false
    }
   },
   "source": [
    "CS 242, Fall 2020; Instructor: Vinayak Rao \n",
    "\n",
    "Due: Monday, March 2, 11:59PM, submit to Blackboard  \n",
    "(Posted Feb 24, 2020)\n",
    "\n",
    "Please submit this homework as a single Jupyter notebook (__YOURNAME_hw4.ipynb__ file) to Blackboard before the deadline: __11:59pm Monday, Mar 2__. \n",
    "\n",
    "+ Please add you name to the top of the homework notebook, and to the name of the notebook file. \n",
    "+ Any paragraph/descriptive/yes-no answers that you want to be considered for grading must be included as separate markdown cells in the Jupyter notebook (rather than as comments in the code), and these cells should accompany the associated questions: graders cannot be expected to hunt through your submission to find answers to individual questions. Please post any questions you have on piazza.\n",
    "\n",
    "__Important__\n",
    "\n",
    "+ For this homework you can __ONLY__ use the python libraries in the cell below. \n",
    "+ __For full credit, all plots should be properly labeled and titled__\n",
    "+ Unless specified, you will lose upto 25% credit if you use loops of any kind. For full points, you should use pandas functionality, with code that returns correct answers if run on a test dataframe with the numeric entries changed.\n",
    "\n",
    "__Suggestion__\n",
    "+ To help validate your code, create smaller versions of the provided datasets where you can calculate quantities by hand, and make sure your code agrees with these numbers\n",
    "+ It is a good idea (if possible) to download the notebook and work on it on your own computer. "
   ]
  },
  {
   "cell_type": "code",
   "execution_count": null,
   "metadata": {
    "collapsed": true,
    "deletable": false,
    "editable": false,
    "nbgrader": {
     "grade": false,
     "locked": true,
     "solution": false
    }
   },
   "outputs": [],
   "source": [
    "# Execute this cell\n",
    "import pandas as pd\n",
    "import numpy as np\n",
    "from plotnine import *\n",
    "import statsmodels.formula.api as smf"
   ]
  },
  {
   "cell_type": "markdown",
   "metadata": {
    "deletable": false,
    "editable": false,
    "nbgrader": {
     "grade": false,
     "locked": true,
     "solution": false
    }
   },
   "source": [
    "## Q1: Movie dataset (1 + 4 + 5 + 4 + 7 + 4)\n",
    "\n",
    "The first two parts will try to create a figure like https://peltiertech.com/images/2011-06/BoxPlotV5.png (but with only 2 boxplots)"
   ]
  },
  {
   "cell_type": "markdown",
   "metadata": {
    "deletable": false,
    "editable": false,
    "nbgrader": {
     "grade": false,
     "locked": true,
     "solution": false
    }
   },
   "source": [
    "a) Load the dataset 'movies.csv'. Drop all rows with NAs, and keep only those movies with column 'country' equal to USA, and made after 1980. Call this dataframe movie, we will be using this dataset for the rest of Q1 "
   ]
  },
  {
   "cell_type": "code",
   "execution_count": null,
   "metadata": {
    "collapsed": true
   },
   "outputs": [],
   "source": [
    "###\n",
    "### YOUR CODE HERE\n",
    "###\n"
   ]
  },
  {
   "cell_type": "markdown",
   "metadata": {
    "deletable": false,
    "editable": false,
    "nbgrader": {
     "grade": false,
     "locked": true,
     "solution": false
    }
   },
   "source": [
    "b) Make a plot showing the boxplots of the budget and gross of all movies made in the year 1990. These should be side-by-side in the same plot. You will have to use the melt function. Fill the box plot with the color gold, and set the line size to 2. Make sure the plot has an informative title and axis-labels."
   ]
  },
  {
   "cell_type": "code",
   "execution_count": null,
   "metadata": {
    "collapsed": true
   },
   "outputs": [],
   "source": [
    "###\n",
    "### YOUR CODE HERE\n",
    "###\n"
   ]
  },
  {
   "cell_type": "markdown",
   "metadata": {
    "deletable": false,
    "editable": false,
    "nbgrader": {
     "grade": false,
     "locked": true,
     "solution": false
    }
   },
   "source": [
    "c) To the previous plot, add a line joining the mean of budget to the mean of gross. The line should be colored red, and of size 2. At each end of the line, you should have a red circles (instead of the crosses in https://peltiertech.com/images/2011-06/BoxPlotV5.png). \n",
    "\n",
    "Warning: the x-axis of this plot is categorical i.e. it consists of two values 'budget' and 'gross' rather than numbers. By default, with a categorical x-axis, ggplot will treat each x value as a separate group. Your line will then consist of one point for budget and one for gross, and ggplot will complain (you need at least 2 points in each group to draw a line). You can avoid this by forcing the group option to ignore the x-axis (by setting it to a dummy value).\n"
   ]
  },
  {
   "cell_type": "code",
   "execution_count": null,
   "metadata": {
    "collapsed": true
   },
   "outputs": [],
   "source": [
    "###\n",
    "### YOUR CODE HERE\n",
    "###\n"
   ]
  },
  {
   "cell_type": "markdown",
   "metadata": {
    "deletable": false,
    "editable": false,
    "nbgrader": {
     "grade": false,
     "locked": true,
     "solution": false
    }
   },
   "source": [
    "d) Create a plot with year on the x-axis, and two lines, the mean budget and the median budget of movies from that year. These lines should be colored differently and labeled."
   ]
  },
  {
   "cell_type": "code",
   "execution_count": null,
   "metadata": {
    "collapsed": true
   },
   "outputs": [],
   "source": [
    "###\n",
    "### YOUR CODE HERE\n",
    "###\n"
   ]
  },
  {
   "cell_type": "markdown",
   "metadata": {
    "deletable": false,
    "editable": false,
    "nbgrader": {
     "grade": false,
     "locked": true,
     "solution": false
    }
   },
   "source": [
    "In addition to the median, we now also want to calculate various quantiles (recall the median is the 50% quantile). Unfortunately, we cannot directly use the pandas method 'quantile' with agg, since quantile requires an additional argument, the quantile level (something like <code>movie.agg({'budget':[quantile(.25), quantile(.75)]})</code> will not work.\n",
    "\n",
    "However, if there were a function q25 that takes only one input (say x), and calculates the 25% quantile of x, then \n",
    "<code>movie.agg({'budget':q25})</code> will work. "
   ]
  },
  {
   "cell_type": "markdown",
   "metadata": {
    "deletable": false,
    "editable": false,
    "nbgrader": {
     "grade": false,
     "locked": true,
     "solution": false
    }
   },
   "source": [
    "e) Write two functions q25 and q75 that take a pandas series as input and calculate the 25 and 75 percent quantile respectively. By passing these to the agg method, create a dataframe with columns title_year, median, q25 and q75.\n",
    "\n",
    "Then create a plot with 2 layers. One is a geom_line showing time vs the median budget, and the other is geom_ribbon showing the 25%-75% band of budgets for each year. Set the fill to have opacity of 0.5. The plot will resemble one of the facets here: https://support.sas.com/documentation/cdl/en/statug/63033/HTML/default/images/quantpanel24__.png\n",
    "\n",
    "As always, make sure there is information so a viewer can understand your figure."
   ]
  },
  {
   "cell_type": "code",
   "execution_count": null,
   "metadata": {
    "collapsed": true,
    "scrolled": true
   },
   "outputs": [],
   "source": [
    "###\n",
    "### YOUR CODE HERE\n",
    "###\n"
   ]
  },
  {
   "cell_type": "markdown",
   "metadata": {
    "deletable": false,
    "editable": false,
    "nbgrader": {
     "grade": false,
     "locked": true,
     "solution": false
    }
   },
   "source": [
    "f) Now create a plot with two facets in 1 row. One shows the same plot as before (for column budget), and the other show the median and 25%-75% band for column gross."
   ]
  },
  {
   "cell_type": "code",
   "execution_count": null,
   "metadata": {
    "collapsed": true
   },
   "outputs": [],
   "source": [
    "###\n",
    "### YOUR CODE HERE\n",
    "###\n"
   ]
  },
  {
   "cell_type": "markdown",
   "metadata": {
    "deletable": false,
    "editable": false,
    "nbgrader": {
     "grade": false,
     "locked": true,
     "solution": false
    }
   },
   "source": [
    "## Q2: custom geom_smooth methods and kNN (2 + 3 + 3 + 3 + 6  + 3 + 5)\n",
    "\n",
    "The cell below reads the stop-and-frisk dataset, applying the same transformation that the first question from HW3 asked from you (i.e. collapse different crime type). Run the cell below."
   ]
  },
  {
   "cell_type": "code",
   "execution_count": null,
   "metadata": {
    "collapsed": true,
    "deletable": false,
    "editable": false,
    "nbgrader": {
     "grade": false,
     "locked": true,
     "solution": false
    }
   },
   "outputs": [],
   "source": [
    "frisk = pd.read_csv('./frisk.csv')\n",
    "frisk = frisk.groupby(['precinct','eth']).agg({\"popl\":\"mean\", 'stops':'sum','past':'sum'}).reset_index('eth')"
   ]
  },
  {
   "cell_type": "markdown",
   "metadata": {
    "deletable": false,
    "editable": false,
    "nbgrader": {
     "grade": false,
     "locked": true,
     "solution": false
    }
   },
   "source": [
    "a) Create a plot with two layers. The first is a scatterplot of popl (on the x-axis) vs stops (on the y-axis). The second is a geom_smooth layer, showing a straight line fitted to this data (along the error bands)\n",
    "\n",
    "Note: this line is fit using one of the default methods of geom_smooth"
   ]
  },
  {
   "cell_type": "code",
   "execution_count": null,
   "metadata": {
    "collapsed": true
   },
   "outputs": [],
   "source": [
    "###\n",
    "### YOUR CODE HERE\n",
    "###\n"
   ]
  },
  {
   "cell_type": "markdown",
   "metadata": {
    "deletable": false,
    "editable": false,
    "nbgrader": {
     "grade": false,
     "locked": true,
     "solution": false
    }
   },
   "source": [
    "b) Now repeat part a), but fitting a different line for each ethnicity. Color the lines and the points according to ethnicity. Make sure your plot is titled/labeled."
   ]
  },
  {
   "cell_type": "code",
   "execution_count": null,
   "metadata": {
    "collapsed": true
   },
   "outputs": [],
   "source": [
    "###\n",
    "### YOUR CODE HERE\n",
    "###\n"
   ]
  },
  {
   "cell_type": "markdown",
   "metadata": {
    "deletable": false,
    "editable": false,
    "nbgrader": {
     "grade": false,
     "locked": true,
     "solution": false
    }
   },
   "source": [
    "c) A limitation of the default geom_smooth method is that is does not allow us to force the lines to pass through the origin (like we wanted in HW3). Luckily, you can pass your own smoothing function to geom_smooth.\n",
    "\n",
    "The cell below gives the skeleton of how such a function should look. Its arguments are:\n",
    "1. __data__: a dataframe of your original data with x and y columns,\n",
    "2. __xseq__: a numpy array of values that ggplot will want predictions at\n",
    "3. __**params__: miscellaneous parameters for ggplot, we don't have to worry about these. \n",
    "\n",
    "The function returns a dataframe again with 2 columns x and y. x will be xseq, and y will be the predicted values at xseq.\n",
    "\n",
    "Copy the skeleton in the cell below to a new cell and fill in the details, where predicted values are obtained by fitting a line _through the origin_ to the input data.\n",
    "\n",
    "(If you are interested, the link here has more details https://github.com/has2k1/plotnine/blob/master/plotnine/stats/stat_smooth.py )."
   ]
  },
  {
   "cell_type": "code",
   "execution_count": null,
   "metadata": {
    "collapsed": true,
    "deletable": false,
    "editable": false,
    "nbgrader": {
     "grade": false,
     "locked": true,
     "solution": false
    }
   },
   "outputs": [],
   "source": [
    "# COPY TO THE CELL BELOW AND FILL IN\n",
    "\n",
    "def ols_orig(data, xseq, **params):\n",
    "                # * data - has the x and y values for the model\n",
    "                # * xseq - x values to be predicted\n",
    "                # * params - stat parameters\n",
    "                #\n",
    "                # It must return a new dataframe whose column x is xseq,\n",
    "                #  and y column are the predicted values.\n",
    "                             \n",
    "                # Create output data by getting predictions on\n",
    "                # the xseq values\n",
    "                \n",
    "                # FILL IN YOUR CODE TO CALCULATE yseq\n",
    "                \n",
    "                \n",
    "                data = pd.DataFrame({\n",
    "                    'x': xseq,\n",
    "                    'y': yseq\n",
    "                })\n",
    "\n",
    "                return data\n",
    "            \n"
   ]
  },
  {
   "cell_type": "code",
   "execution_count": null,
   "metadata": {
    "collapsed": true
   },
   "outputs": [],
   "source": [
    "###\n",
    "### YOUR CODE HERE\n",
    "###\n"
   ]
  },
  {
   "cell_type": "markdown",
   "metadata": {
    "deletable": false,
    "editable": false,
    "nbgrader": {
     "grade": false,
     "locked": true,
     "solution": false
    }
   },
   "source": [
    "d) Repeat part b), now using the previous function in geom_smooth. Your 3 lines should all pass through the origin. You won't have errorbands, but that is ok."
   ]
  },
  {
   "cell_type": "code",
   "execution_count": null,
   "metadata": {
    "collapsed": true
   },
   "outputs": [],
   "source": [
    "###\n",
    "### YOUR CODE HERE\n",
    "###\n"
   ]
  },
  {
   "cell_type": "markdown",
   "metadata": {
    "deletable": false,
    "editable": false,
    "nbgrader": {
     "grade": false,
     "locked": true,
     "solution": false
    }
   },
   "source": [
    "(e) We will now run geom_smooth with k nearest neighbors.\n",
    "\n",
    "The cell below has the skelton of a function to do k nearest neighbors with k = 5. Like the function ols_orig, this too should return a dataframe with 2 columns x and y, x being xseq, and y, the predicted values at xseq. The predictions should be made by running knn on on the input data, with k=5.\n",
    "\n",
    "Your code can proceed as follows: write a for-loop that loops through the elements of xseq. For each element,  calculate the k nearest x's in data, average their corresponding y's, and set it as the corresponding prediction.\n",
    "\n",
    "(Note: this for-loop can be made more efficient, but we will not worry about this)\n",
    "\n",
    "Hint: you might want to debug your function on a small toy dataset. "
   ]
  },
  {
   "cell_type": "code",
   "execution_count": null,
   "metadata": {
    "collapsed": true,
    "deletable": false,
    "editable": false,
    "nbgrader": {
     "grade": false,
     "locked": true,
     "solution": false
    }
   },
   "outputs": [],
   "source": [
    "# COPY TO THE CELL BELOW AND FILL IN\n",
    "\n",
    "def knn5(data,xseq,**params):\n",
    "    k = 5\n",
    "    \n",
    "    # FILL IN YOUR CODE HERE\n",
    "    "
   ]
  },
  {
   "cell_type": "code",
   "execution_count": null,
   "metadata": {
    "collapsed": true
   },
   "outputs": [],
   "source": [
    "###\n",
    "### YOUR CODE HERE\n",
    "###\n"
   ]
  },
  {
   "cell_type": "markdown",
   "metadata": {
    "deletable": false,
    "editable": false,
    "nbgrader": {
     "grade": false,
     "locked": true,
     "solution": false
    }
   },
   "source": [
    "f) Now repeat part b), using knn5 as the method used by geom_smooth."
   ]
  },
  {
   "cell_type": "code",
   "execution_count": null,
   "metadata": {
    "collapsed": true,
    "nbgrader": {
     "grade": false,
     "grade_id": "Q1c:findProperCase_1",
     "locked": false,
     "points": "0.5",
     "solution": false
    }
   },
   "outputs": [],
   "source": [
    "###\n",
    "### YOUR CODE HERE\n",
    "###\n"
   ]
  },
  {
   "cell_type": "markdown",
   "metadata": {
    "collapsed": true,
    "deletable": false,
    "editable": false,
    "nbgrader": {
     "grade": false,
     "locked": true,
     "solution": false
    }
   },
   "source": [
    "g) Repeat the above for k = 1 and k = 20. While it is possible to be more clever about this, it is sufficient if you define functions knn1 and knn20 by copying your code for knn5 and replacing k=5 with k=1 or k=20.\n",
    "\n",
    "Note: for k=1, the lines for each group should pass through all their points."
   ]
  },
  {
   "cell_type": "code",
   "execution_count": null,
   "metadata": {
    "collapsed": true
   },
   "outputs": [],
   "source": [
    "###\n",
    "### YOUR CODE HERE\n",
    "###\n"
   ]
  },
  {
   "cell_type": "code",
   "execution_count": null,
   "metadata": {
    "collapsed": true
   },
   "outputs": [],
   "source": [
    "###\n",
    "### YOUR CODE HERE\n",
    "###\n"
   ]
  }
 ],
 "metadata": {
  "kernelspec": {
   "display_name": "Python 3",
   "language": "python",
   "name": "python3"
  },
  "language_info": {
   "codemirror_mode": {
    "name": "ipython",
    "version": 3
   },
   "file_extension": ".py",
   "mimetype": "text/x-python",
   "name": "python",
   "nbconvert_exporter": "python",
   "pygments_lexer": "ipython3",
   "version": "3.7.4"
  }
 },
 "nbformat": 4,
 "nbformat_minor": 2
}
